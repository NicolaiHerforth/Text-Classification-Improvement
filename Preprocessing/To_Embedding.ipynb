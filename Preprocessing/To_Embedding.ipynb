{
 "cells": [
  {
   "cell_type": "code",
   "execution_count": 1,
   "metadata": {},
   "outputs": [
    {
     "name": "stderr",
     "output_type": "stream",
     "text": [
      "Using TensorFlow backend.\n"
     ]
    }
   ],
   "source": [
    "import pandas as pd\n",
    "from keras.preprocessing.text import text_to_word_sequence\n",
    "import gensim \n",
    "from gensim.models import Word2Vec\n",
    "import numpy as np"
   ]
  },
  {
   "cell_type": "code",
   "execution_count": 82,
   "metadata": {},
   "outputs": [],
   "source": [
    "class WordEmbedding:\n",
    "    def __init__(self, num_features = 100, min_word_count = 5, num_workers = 4, window = 5, sg=0):\n",
    "        self.num_features = num_features\n",
    "        self.min_word_count = min_word_count\n",
    "        self.num_workers = num_workers\n",
    "        self.window = window\n",
    "        self.sg = sg\n",
    "        self.model = None\n",
    "        \n",
    "    def fit(self, data):\n",
    "        self.model = gensim.models.Word2Vec(data, \n",
    "                                   min_count = self.min_word_count,\n",
    "                                   size = self.num_features, \n",
    "                                   window = self.window, \n",
    "                                   workers = self.num_workers)\n",
    "        return self.model\n",
    "    \n",
    "    def size(self):\n",
    "        print(\"Total number of words in the vocabulary: \", self.model.wv.syn0.shape)\n",
    "        \n",
    "    def _average_word_vectors(self, words, model, vocabulary, num_features):\n",
    "\n",
    "        feature_vector = np.zeros((num_features,), dtype = \"float64\")\n",
    "        n_words = 0.\n",
    "\n",
    "        for word in words:\n",
    "            if word in vocabulary: \n",
    "                n_words = n_words + 1.\n",
    "                feature_vector = np.add(feature_vector, model[word])\n",
    "\n",
    "        if n_words:\n",
    "            feature_vector = np.divide(feature_vector, n_words)\n",
    "\n",
    "        return feature_vector\n",
    "\n",
    "   \n",
    "    def _averaged_word_vectorizer(self, corpus, model, num_features):\n",
    "        vocabulary = set(model.wv.index2word)\n",
    "        features = [self._average_word_vectors(tokenized_sentence, model, vocabulary, num_features) for tokenized_sentence in corpus]\n",
    "        return np.array(features)\n",
    "    \n",
    "    def to_pd(self, data):\n",
    "        feature_matrix = self._averaged_word_vectorizer(data, self.model, self.num_features)\n",
    "        return pd.DataFrame(feature_matrix)"
   ]
  },
  {
   "cell_type": "code",
   "execution_count": 83,
   "metadata": {},
   "outputs": [
    {
     "data": {
      "text/plain": [
       "<gensim.models.word2vec.Word2Vec at 0x1b3bf4390>"
      ]
     },
     "execution_count": 83,
     "metadata": {},
     "output_type": "execute_result"
    }
   ],
   "source": [
    "#embedding = WordEmbedding()\n",
    "#WordEmbedding.fit(embedding, data['reviewText'])\n",
    "#WordEmbedding.size(model)\n",
    "#WordEmbedding.to_pd(embedding, data['reviewText'])"
   ]
  }
 ],
 "metadata": {
  "kernelspec": {
   "display_name": "Python 3",
   "language": "python",
   "name": "python3"
  },
  "language_info": {
   "codemirror_mode": {
    "name": "ipython",
    "version": 3
   },
   "file_extension": ".py",
   "mimetype": "text/x-python",
   "name": "python",
   "nbconvert_exporter": "python",
   "pygments_lexer": "ipython3",
   "version": "3.7.0"
  }
 },
 "nbformat": 4,
 "nbformat_minor": 2
}
