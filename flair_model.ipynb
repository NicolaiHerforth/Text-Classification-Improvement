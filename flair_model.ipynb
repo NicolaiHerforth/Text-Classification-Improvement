{
 "cells": [
  {
   "cell_type": "code",
   "execution_count": 2,
   "metadata": {},
   "outputs": [
    {
     "name": "stdout",
     "output_type": "stream",
     "text": [
      "1.1.0\n"
     ]
    },
    {
     "data": {
      "text/plain": [
       "'GeForce RTX 2070'"
      ]
     },
     "execution_count": 2,
     "metadata": {},
     "output_type": "execute_result"
    }
   ],
   "source": [
    "import torch\n",
    "torch.cuda.is_available()\n",
    "print(torch.__version__)\n",
    "torch.cuda.get_device_name(0)"
   ]
  },
  {
   "cell_type": "code",
   "execution_count": 2,
   "metadata": {
    "scrolled": true
   },
   "outputs": [
    {
     "name": "stdout",
     "output_type": "stream",
     "text": [
      "2019-05-09 13:13:56,886 Reading data from flair_data\n",
      "2019-05-09 13:13:56,888 Train: flair_data/train.csv\n",
      "2019-05-09 13:13:56,888 Dev: flair_data/dev.csv\n",
      "2019-05-09 13:13:56,889 Test: flair_data/test.csv\n"
     ]
    },
    {
     "name": "stderr",
     "output_type": "stream",
     "text": [
      "/Users/davidmortensen/anaconda3/lib/python3.7/site-packages/ipykernel_launcher.py:10: DeprecationWarning: Call to deprecated class DocumentLSTMEmbeddings. (The functionality of this class is moved to 'DocumentRNNEmbeddings') -- Deprecated since version 0.4.\n",
      "  # Remove the CWD from sys.path while we load stuff.\n"
     ]
    }
   ],
   "source": [
    "from flair.data_fetcher import NLPTaskDataFetcher\n",
    "from flair.embeddings import WordEmbeddings, FlairEmbeddings, DocumentLSTMEmbeddings\n",
    "from flair.models import TextClassifier\n",
    "from flair.trainers import ModelTrainer\n",
    "from pathlib import Path\n",
    "\n",
    "\n",
    "corpus = NLPTaskDataFetcher.load_classification_corpus(Path('flair_data/'), test_file = 'test.csv', dev_file = 'dev.csv', train_file = 'train.csv')#.downsample(0.01)\n",
    "\n",
    "word_embeddings = [WordEmbeddings('glove'), \n",
    "                   FlairEmbeddings('news-forward-fast', use_cache = True), \n",
    "                   FlairEmbeddings('news-backward-fast', use_cache = True)]\n",
    "\n",
    "document_embeddings = DocumentRNNEmbeddings(word_embeddings, \n",
    "                                            hidden_size = 512, \n",
    "                                            reproject_words = True, \n",
    "                                            reproject_words_dimension = 256)\n",
    "\n",
    "classifier = TextClassifier(document_embeddings, label_dictionary = corpus.make_label_dictionary(), multi_label = False)\n",
    "trainer = ModelTrainer(classifier, corpus)"
   ]
  },
  {
   "cell_type": "code",
   "execution_count": null,
   "metadata": {
    "scrolled": false
   },
   "outputs": [
    {
     "name": "stdout",
     "output_type": "stream",
     "text": [
      "2019-05-09 13:23:21,214 ----------------------------------------------------------------------------------------------------\n",
      "2019-05-09 13:23:21,215 Evaluation method: MICRO_F1_SCORE\n",
      "2019-05-09 13:23:21,220 ----------------------------------------------------------------------------------------------------\n",
      "2019-05-09 13:23:29,250 epoch 1 - iter 0/90 - loss 0.09685771\n",
      "2019-05-09 13:24:57,747 epoch 1 - iter 9/90 - loss 0.09010749\n"
     ]
    }
   ],
   "source": [
    "trainer.train('./', max_epochs=10, mini_batch_size = 8)"
   ]
  },
  {
   "cell_type": "code",
   "execution_count": null,
   "metadata": {},
   "outputs": [],
   "source": []
  }
 ],
 "metadata": {
  "kernelspec": {
   "display_name": "Python 3",
   "language": "python",
   "name": "python3"
  },
  "language_info": {
   "codemirror_mode": {
    "name": "ipython",
    "version": 3
   },
   "file_extension": ".py",
   "mimetype": "text/x-python",
   "name": "python",
   "nbconvert_exporter": "python",
   "pygments_lexer": "ipython3",
   "version": "3.7.0"
  }
 },
 "nbformat": 4,
 "nbformat_minor": 2
}
