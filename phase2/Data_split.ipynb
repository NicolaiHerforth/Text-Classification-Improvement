{
 "cells": [
  {
   "cell_type": "code",
   "execution_count": 2,
   "metadata": {},
   "outputs": [],
   "source": [
    "import pandas as pd\n",
    "import re\n",
    "\n",
    "df = pd.read_csv('phase2_baby_group2.csv')\n",
    "df = df.rename(index=str, columns={\"Unnamed: 0\": \"id\"})"
   ]
  },
  {
   "cell_type": "code",
   "execution_count": 3,
   "metadata": {},
   "outputs": [
    {
     "data": {
      "text/html": [
       "<div>\n",
       "<style scoped>\n",
       "    .dataframe tbody tr th:only-of-type {\n",
       "        vertical-align: middle;\n",
       "    }\n",
       "\n",
       "    .dataframe tbody tr th {\n",
       "        vertical-align: top;\n",
       "    }\n",
       "\n",
       "    .dataframe thead th {\n",
       "        text-align: right;\n",
       "    }\n",
       "</style>\n",
       "<table border=\"1\" class=\"dataframe\">\n",
       "  <thead>\n",
       "    <tr style=\"text-align: right;\">\n",
       "      <th></th>\n",
       "      <th>id</th>\n",
       "      <th>polarity</th>\n",
       "      <th>summary</th>\n",
       "      <th>reviewText</th>\n",
       "      <th>year</th>\n",
       "      <th>uuid</th>\n",
       "      <th>asin</th>\n",
       "      <th>reviewerID</th>\n",
       "    </tr>\n",
       "  </thead>\n",
       "  <tbody>\n",
       "    <tr>\n",
       "      <th>0</th>\n",
       "      <td>261</td>\n",
       "      <td>positive</td>\n",
       "      <td>Great potty, especially for boys!</td>\n",
       "      <td>I had a Safety 1st potty that I just hated bef...</td>\n",
       "      <td>2005</td>\n",
       "      <td>1122422400B000056J7KA3GJ0RDALQQT5G</td>\n",
       "      <td>B000056J7K</td>\n",
       "      <td>A3GJ0RDALQQT5G</td>\n",
       "    </tr>\n",
       "    <tr>\n",
       "      <th>1</th>\n",
       "      <td>262</td>\n",
       "      <td>positive</td>\n",
       "      <td>safe and nice looking</td>\n",
       "      <td>I love this co-sleeper because I have a one-be...</td>\n",
       "      <td>2009</td>\n",
       "      <td>1253318400B000HKY1GMA1YHI49AWYNI34</td>\n",
       "      <td>B000HKY1GM</td>\n",
       "      <td>A1YHI49AWYNI34</td>\n",
       "    </tr>\n",
       "    <tr>\n",
       "      <th>2</th>\n",
       "      <td>263</td>\n",
       "      <td>positive</td>\n",
       "      <td>You have to have this</td>\n",
       "      <td>I wish i would have brought this to the hospit...</td>\n",
       "      <td>2005</td>\n",
       "      <td>1122595200B000231GEOA2D6B8N0CTJ28L</td>\n",
       "      <td>B000231GEO</td>\n",
       "      <td>A2D6B8N0CTJ28L</td>\n",
       "    </tr>\n",
       "    <tr>\n",
       "      <th>3</th>\n",
       "      <td>264</td>\n",
       "      <td>positive</td>\n",
       "      <td>It was fun while it lasted</td>\n",
       "      <td>We got this water mat when my twins were very ...</td>\n",
       "      <td>2009</td>\n",
       "      <td>1245801600B000E82WRMA2QANOGP5LLPBQ</td>\n",
       "      <td>B000E82WRM</td>\n",
       "      <td>A2QANOGP5LLPBQ</td>\n",
       "    </tr>\n",
       "    <tr>\n",
       "      <th>4</th>\n",
       "      <td>265</td>\n",
       "      <td>positive</td>\n",
       "      <td>Good Price but..............</td>\n",
       "      <td>I bought this as 2nd stroller, to park and sho...</td>\n",
       "      <td>2009</td>\n",
       "      <td>1255564800B000FFS9VMA2661SA1L2OEL6</td>\n",
       "      <td>B000FFS9VM</td>\n",
       "      <td>A2661SA1L2OEL6</td>\n",
       "    </tr>\n",
       "  </tbody>\n",
       "</table>\n",
       "</div>"
      ],
      "text/plain": [
       "    id  polarity                            summary  \\\n",
       "0  261  positive  Great potty, especially for boys!   \n",
       "1  262  positive              safe and nice looking   \n",
       "2  263  positive              You have to have this   \n",
       "3  264  positive         It was fun while it lasted   \n",
       "4  265  positive       Good Price but..............   \n",
       "\n",
       "                                          reviewText  year  \\\n",
       "0  I had a Safety 1st potty that I just hated bef...  2005   \n",
       "1  I love this co-sleeper because I have a one-be...  2009   \n",
       "2  I wish i would have brought this to the hospit...  2005   \n",
       "3  We got this water mat when my twins were very ...  2009   \n",
       "4  I bought this as 2nd stroller, to park and sho...  2009   \n",
       "\n",
       "                                 uuid        asin      reviewerID  \n",
       "0  1122422400B000056J7KA3GJ0RDALQQT5G  B000056J7K  A3GJ0RDALQQT5G  \n",
       "1  1253318400B000HKY1GMA1YHI49AWYNI34  B000HKY1GM  A1YHI49AWYNI34  \n",
       "2  1122595200B000231GEOA2D6B8N0CTJ28L  B000231GEO  A2D6B8N0CTJ28L  \n",
       "3  1245801600B000E82WRMA2QANOGP5LLPBQ  B000E82WRM  A2QANOGP5LLPBQ  \n",
       "4  1255564800B000FFS9VMA2661SA1L2OEL6  B000FFS9VM  A2661SA1L2OEL6  "
      ]
     },
     "execution_count": 3,
     "metadata": {},
     "output_type": "execute_result"
    }
   ],
   "source": [
    "df.head()"
   ]
  },
  {
   "cell_type": "code",
   "execution_count": 4,
   "metadata": {},
   "outputs": [
    {
     "data": {
      "text/plain": [
       "[\"My baby doesn't like pacifiers at all so I was skeptical about this.\",\n",
       " 'I was wrong, she loves it.',\n",
       " 'It really helps her with teething because she loves to chew on it.',\n",
       " 'Highly recommend it.']"
      ]
     },
     "execution_count": 4,
     "metadata": {},
     "output_type": "execute_result"
    }
   ],
   "source": [
    "from nltk.tokenize import sent_tokenize\n",
    "sent_tokenize(df['reviewText'][12])"
   ]
  },
  {
   "cell_type": "code",
   "execution_count": 208,
   "metadata": {},
   "outputs": [],
   "source": [
    "text = \"Mr. Jones was a strong man. He died after a crash in. a helicopter. What he did for St. Francis was a great tribute.\""
   ]
  },
  {
   "cell_type": "code",
   "execution_count": 5,
   "metadata": {},
   "outputs": [],
   "source": [
    "df[\"reviewText\"] = df[\"reviewText\"].str.replace('\\\\.\\\\.+', '. ')\n",
    "df[\"reviewText\"] = df[\"reviewText\"].str.replace('\\\\!\\\\!+', '! ')\n",
    "df[\"reviewText\"] = df[\"reviewText\"].str.replace('\\\\?\\\\?+', '? ')\n",
    "df[\"reviewText\"] = df[\"reviewText\"].str.replace(r'\\.(?=[A-Z])', '. ')\n",
    "df[\"reviewText\"] = df[\"reviewText\"].str.replace(r'\\?(?=[A-Z])', '. ')\n",
    "df[\"reviewText\"] = df[\"reviewText\"].str.replace(r'\\!(?=[A-Z])', '. ')\n",
    "#df[\"reviewText\"] = df[\"reviewText\"].str.replace('!', '! ')\n",
    "#df[\"reviewText\"] = df[\"reviewText\"].str.replace('?', '? ')"
   ]
  },
  {
   "cell_type": "code",
   "execution_count": 6,
   "metadata": {},
   "outputs": [
    {
     "data": {
      "text/plain": [
       "\"I had a Safety 1st potty that I just hated before I bought this Baby Bjorn potty.  It leaked, its round opening was WAY too small, and I had a ton of problems with my son leaking all over the front and on to the floor.  Plus it came apart in many pieces and had lots of spots bacteria could hide.  The Baby Bjorn takes care of all the problems I had with the Safety 1st potty. The simple construction is so sanitary and easy to clean.  There are no little places for bacteria to collect. The opening is bigger than other potty chairs and oblong instead of round, so no more pooping on the seat.  This alone would have sold me on this potty. The splash guard is great for boys.  No more peeing off the front of the potty and no flimsy detachable splash guards that flip down into the seat. It has a nice rubber grip on the bottom to keep it in the same place on the floor. Another plus is that it's nice looking and blends in with the rest of the bathroom. I'm very happy with the quality and design of this potty and I have NO complaints!\""
      ]
     },
     "execution_count": 6,
     "metadata": {},
     "output_type": "execute_result"
    }
   ],
   "source": [
    "df[\"reviewText\"][0]"
   ]
  },
  {
   "cell_type": "code",
   "execution_count": 7,
   "metadata": {},
   "outputs": [],
   "source": [
    "#df['reviewText'] = df['reviewText'].apply(lambda x: re.split(r'\\.(?=[A-Z])',x))\n",
    "\n",
    "df['reviewText'] = df['reviewText'].apply(lambda x: sent_tokenize(x))"
   ]
  },
  {
   "cell_type": "code",
   "execution_count": 13,
   "metadata": {},
   "outputs": [
    {
     "data": {
      "text/plain": [
       "['This is a great swing and my daughter loves it.',\n",
       " 'She likes to look at the moving birds and leaves at the top.',\n",
       " 'I love that you can change swinging directions.',\n",
       " 'Worth every penny!']"
      ]
     },
     "execution_count": 13,
     "metadata": {},
     "output_type": "execute_result"
    }
   ],
   "source": [
    "df['reviewText'][258]"
   ]
  },
  {
   "cell_type": "code",
   "execution_count": 213,
   "metadata": {},
   "outputs": [],
   "source": [
    "new_df = df[['id', 'reviewText', 'asin']]"
   ]
  },
  {
   "cell_type": "code",
   "execution_count": 214,
   "metadata": {},
   "outputs": [
    {
     "name": "stderr",
     "output_type": "stream",
     "text": [
      "/Users/davidmortensen/anaconda3/lib/python3.7/site-packages/ipykernel_launcher.py:1: SettingWithCopyWarning: \n",
      "A value is trying to be set on a copy of a slice from a DataFrame.\n",
      "Try using .loc[row_indexer,col_indexer] = value instead\n",
      "\n",
      "See the caveats in the documentation: http://pandas.pydata.org/pandas-docs/stable/indexing.html#indexing-view-versus-copy\n",
      "  \"\"\"Entry point for launching an IPython kernel.\n",
      "/Users/davidmortensen/anaconda3/lib/python3.7/site-packages/ipykernel_launcher.py:2: SettingWithCopyWarning: \n",
      "A value is trying to be set on a copy of a slice from a DataFrame.\n",
      "Try using .loc[row_indexer,col_indexer] = value instead\n",
      "\n",
      "See the caveats in the documentation: http://pandas.pydata.org/pandas-docs/stable/indexing.html#indexing-view-versus-copy\n",
      "  \n"
     ]
    }
   ],
   "source": [
    "new_df['sentiment'] = \"\"\n",
    "new_df['under_review'] = \"\""
   ]
  },
  {
   "cell_type": "code",
   "execution_count": 215,
   "metadata": {},
   "outputs": [],
   "source": [
    "david = new_df[0:66]\n",
    "mads = new_df[66:130]\n",
    "nicolai = new_df[130:195]\n",
    "oscar = new_df[195:]"
   ]
  },
  {
   "cell_type": "code",
   "execution_count": 222,
   "metadata": {},
   "outputs": [
    {
     "name": "stderr",
     "output_type": "stream",
     "text": [
      "/Users/davidmortensen/anaconda3/lib/python3.7/site-packages/ipykernel_launcher.py:1: DeprecationWarning: \n",
      ".ix is deprecated. Please use\n",
      ".loc for label based indexing or\n",
      ".iloc for positional indexing\n",
      "\n",
      "See the documentation here:\n",
      "http://pandas.pydata.org/pandas-docs/stable/indexing.html#ix-indexer-is-deprecated\n",
      "  \"\"\"Entry point for launching an IPython kernel.\n",
      "/Users/davidmortensen/anaconda3/lib/python3.7/site-packages/ipykernel_launcher.py:2: DeprecationWarning: \n",
      ".ix is deprecated. Please use\n",
      ".loc for label based indexing or\n",
      ".iloc for positional indexing\n",
      "\n",
      "See the documentation here:\n",
      "http://pandas.pydata.org/pandas-docs/stable/indexing.html#ix-indexer-is-deprecated\n",
      "  \n",
      "/Users/davidmortensen/anaconda3/lib/python3.7/site-packages/ipykernel_launcher.py:3: DeprecationWarning: \n",
      ".ix is deprecated. Please use\n",
      ".loc for label based indexing or\n",
      ".iloc for positional indexing\n",
      "\n",
      "See the documentation here:\n",
      "http://pandas.pydata.org/pandas-docs/stable/indexing.html#ix-indexer-is-deprecated\n",
      "  This is separate from the ipykernel package so we can avoid doing imports until\n",
      "/Users/davidmortensen/anaconda3/lib/python3.7/site-packages/ipykernel_launcher.py:4: DeprecationWarning: \n",
      ".ix is deprecated. Please use\n",
      ".loc for label based indexing or\n",
      ".iloc for positional indexing\n",
      "\n",
      "See the documentation here:\n",
      "http://pandas.pydata.org/pandas-docs/stable/indexing.html#ix-indexer-is-deprecated\n",
      "  after removing the cwd from sys.path.\n"
     ]
    }
   ],
   "source": [
    "david = pd.concat([pd.DataFrame(dict(zip(david.columns,david.ix[i]))) for i in range(len(david))])\n",
    "mads = pd.concat([pd.DataFrame(dict(zip(mads.columns,mads.ix[i]))) for i in range(len(mads))])\n",
    "nicolai = pd.concat([pd.DataFrame(dict(zip(nicolai.columns,nicolai.ix[i]))) for i in range(len(nicolai))])\n",
    "oscar = pd.concat([pd.DataFrame(dict(zip(oscar.columns,oscar.ix[i]))) for i in range(len(oscar))])"
   ]
  },
  {
   "cell_type": "code",
   "execution_count": 226,
   "metadata": {},
   "outputs": [],
   "source": [
    "david.to_excel(\"david.xlsx\", index = None, header = True, encoding = \"utf-8-sig\")\n",
    "mads.to_excel(\"mads.xlsx\", index = None, header = True, encoding = \"utf-8-sig\")\n",
    "nicolai.to_excel(\"nicolai.xlsx\", index = None, header = True, encoding = \"utf-8-sig\")\n",
    "oscar.to_excel(\"oscar.xlsx\", index = None, header = True, encoding = \"utf-8-sig\")"
   ]
  },
  {
   "cell_type": "code",
   "execution_count": null,
   "metadata": {},
   "outputs": [],
   "source": []
  }
 ],
 "metadata": {
  "kernelspec": {
   "display_name": "Python 3",
   "language": "python",
   "name": "python3"
  },
  "language_info": {
   "codemirror_mode": {
    "name": "ipython",
    "version": 3
   },
   "file_extension": ".py",
   "mimetype": "text/x-python",
   "name": "python",
   "nbconvert_exporter": "python",
   "pygments_lexer": "ipython3",
   "version": "3.7.0"
  }
 },
 "nbformat": 4,
 "nbformat_minor": 2
}
