{
 "cells": [
  {
   "cell_type": "code",
   "execution_count": 1,
   "metadata": {},
   "outputs": [
    {
     "name": "stderr",
     "output_type": "stream",
     "text": [
      "Using TensorFlow backend.\n"
     ]
    }
   ],
   "source": [
    "import os\n",
    "import numpy as np\n",
    "import pandas as pd\n",
    "import tensorflow as tf\n",
    "from tensorflow.python.keras.preprocessing.text import Tokenizer\n",
    "from tensorflow.python.keras.preprocessing.sequence import pad_sequences\n",
    "from Preprocessing.to_embedding import WordEmbedding\n",
    "from data_format_phase3 import formatting\n",
    "from Preprocessing.helper_functions import import_embedding, embedding_matrix_word2vec\n",
    "from sklearn.model_selection import train_test_split"
   ]
  },
  {
   "cell_type": "code",
   "execution_count": 2,
   "metadata": {},
   "outputs": [
    {
     "name": "stdout",
     "output_type": "stream",
     "text": [
      ":o\n",
      "1\n",
      "lel\n"
     ]
    }
   ],
   "source": [
    "data = formatting(\"../phase1_movie_reviews-train.csv\")\n",
    "#data = data[:round(len(data)*.5)]\n",
    "y = pd.get_dummies(data['polarity'])\n",
    "X_train, X_dev, y_train, y_dev = train_test_split(data, y, test_size = 0.10, random_state=42)\n",
    "x\n",
    "\n",
    "embedding_size = 300 #number of feature weights in embeddings\n",
    "max_len = 400"
   ]
  },
  {
   "cell_type": "code",
   "execution_count": 3,
   "metadata": {},
   "outputs": [
    {
     "data": {
      "text/html": [
       "<div>\n",
       "<style scoped>\n",
       "    .dataframe tbody tr th:only-of-type {\n",
       "        vertical-align: middle;\n",
       "    }\n",
       "\n",
       "    .dataframe tbody tr th {\n",
       "        vertical-align: top;\n",
       "    }\n",
       "\n",
       "    .dataframe thead th {\n",
       "        text-align: right;\n",
       "    }\n",
       "</style>\n",
       "<table border=\"1\" class=\"dataframe\">\n",
       "  <thead>\n",
       "    <tr style=\"text-align: right;\">\n",
       "      <th></th>\n",
       "      <th>big</th>\n",
       "      <th>worth</th>\n",
       "      <th>new</th>\n",
       "      <th>excellent</th>\n",
       "      <th>little</th>\n",
       "      <th>long</th>\n",
       "      <th>worst</th>\n",
       "      <th>better</th>\n",
       "      <th>funny</th>\n",
       "      <th>old</th>\n",
       "      <th>...</th>\n",
       "      <th>bad</th>\n",
       "      <th>great</th>\n",
       "      <th>young</th>\n",
       "      <th>best</th>\n",
       "      <th>quality</th>\n",
       "      <th>like</th>\n",
       "      <th>set</th>\n",
       "      <th>good</th>\n",
       "      <th>special</th>\n",
       "      <th>affin_score</th>\n",
       "    </tr>\n",
       "  </thead>\n",
       "  <tbody>\n",
       "    <tr>\n",
       "      <th>65743</th>\n",
       "      <td>0</td>\n",
       "      <td>0</td>\n",
       "      <td>0</td>\n",
       "      <td>0</td>\n",
       "      <td>0</td>\n",
       "      <td>0</td>\n",
       "      <td>0</td>\n",
       "      <td>1</td>\n",
       "      <td>0</td>\n",
       "      <td>0</td>\n",
       "      <td>...</td>\n",
       "      <td>1</td>\n",
       "      <td>1</td>\n",
       "      <td>0</td>\n",
       "      <td>0</td>\n",
       "      <td>0</td>\n",
       "      <td>0</td>\n",
       "      <td>0</td>\n",
       "      <td>0</td>\n",
       "      <td>0</td>\n",
       "      <td>-0.061224</td>\n",
       "    </tr>\n",
       "    <tr>\n",
       "      <th>73053</th>\n",
       "      <td>0</td>\n",
       "      <td>0</td>\n",
       "      <td>0</td>\n",
       "      <td>0</td>\n",
       "      <td>0</td>\n",
       "      <td>0</td>\n",
       "      <td>0</td>\n",
       "      <td>0</td>\n",
       "      <td>0</td>\n",
       "      <td>0</td>\n",
       "      <td>...</td>\n",
       "      <td>0</td>\n",
       "      <td>0</td>\n",
       "      <td>0</td>\n",
       "      <td>0</td>\n",
       "      <td>0</td>\n",
       "      <td>0</td>\n",
       "      <td>0</td>\n",
       "      <td>1</td>\n",
       "      <td>0</td>\n",
       "      <td>-0.106383</td>\n",
       "    </tr>\n",
       "    <tr>\n",
       "      <th>36360</th>\n",
       "      <td>0</td>\n",
       "      <td>0</td>\n",
       "      <td>0</td>\n",
       "      <td>0</td>\n",
       "      <td>0</td>\n",
       "      <td>0</td>\n",
       "      <td>0</td>\n",
       "      <td>0</td>\n",
       "      <td>0</td>\n",
       "      <td>0</td>\n",
       "      <td>...</td>\n",
       "      <td>0</td>\n",
       "      <td>0</td>\n",
       "      <td>0</td>\n",
       "      <td>0</td>\n",
       "      <td>0</td>\n",
       "      <td>1</td>\n",
       "      <td>0</td>\n",
       "      <td>0</td>\n",
       "      <td>0</td>\n",
       "      <td>0.000000</td>\n",
       "    </tr>\n",
       "    <tr>\n",
       "      <th>30998</th>\n",
       "      <td>0</td>\n",
       "      <td>0</td>\n",
       "      <td>0</td>\n",
       "      <td>0</td>\n",
       "      <td>0</td>\n",
       "      <td>0</td>\n",
       "      <td>0</td>\n",
       "      <td>0</td>\n",
       "      <td>0</td>\n",
       "      <td>0</td>\n",
       "      <td>...</td>\n",
       "      <td>0</td>\n",
       "      <td>0</td>\n",
       "      <td>0</td>\n",
       "      <td>0</td>\n",
       "      <td>0</td>\n",
       "      <td>0</td>\n",
       "      <td>0</td>\n",
       "      <td>0</td>\n",
       "      <td>1</td>\n",
       "      <td>0.313725</td>\n",
       "    </tr>\n",
       "    <tr>\n",
       "      <th>71384</th>\n",
       "      <td>0</td>\n",
       "      <td>0</td>\n",
       "      <td>1</td>\n",
       "      <td>0</td>\n",
       "      <td>1</td>\n",
       "      <td>1</td>\n",
       "      <td>0</td>\n",
       "      <td>1</td>\n",
       "      <td>0</td>\n",
       "      <td>0</td>\n",
       "      <td>...</td>\n",
       "      <td>0</td>\n",
       "      <td>0</td>\n",
       "      <td>0</td>\n",
       "      <td>0</td>\n",
       "      <td>0</td>\n",
       "      <td>0</td>\n",
       "      <td>0</td>\n",
       "      <td>0</td>\n",
       "      <td>0</td>\n",
       "      <td>0.141844</td>\n",
       "    </tr>\n",
       "  </tbody>\n",
       "</table>\n",
       "<p>5 rows × 23 columns</p>\n",
       "</div>"
      ],
      "text/plain": [
       "       big  worth  new  excellent  little  long  worst  better  funny  old  \\\n",
       "65743    0      0    0          0       0     0      0       1      0    0   \n",
       "73053    0      0    0          0       0     0      0       0      0    0   \n",
       "36360    0      0    0          0       0     0      0       0      0    0   \n",
       "30998    0      0    0          0       0     0      0       0      0    0   \n",
       "71384    0      0    1          0       1     1      0       1      0    0   \n",
       "\n",
       "          ...       bad  great  young  best  quality  like  set  good  \\\n",
       "65743     ...         1      1      0     0        0     0    0     0   \n",
       "73053     ...         0      0      0     0        0     0    0     1   \n",
       "36360     ...         0      0      0     0        0     1    0     0   \n",
       "30998     ...         0      0      0     0        0     0    0     0   \n",
       "71384     ...         0      0      0     0        0     0    0     0   \n",
       "\n",
       "       special  affin_score  \n",
       "65743        0    -0.061224  \n",
       "73053        0    -0.106383  \n",
       "36360        0     0.000000  \n",
       "30998        1     0.313725  \n",
       "71384        0     0.141844  \n",
       "\n",
       "[5 rows x 23 columns]"
      ]
     },
     "execution_count": 3,
     "metadata": {},
     "output_type": "execute_result"
    }
   ],
   "source": [
    "X_train_nlp, X_dev_nlp = X_train['reviewText'], X_dev['reviewText']\n",
    "X_train_meta, X_dev_meta = X_train.iloc[:,4:], X_dev.iloc[:,4:]\n",
    "X_train_meta.head()"
   ]
  },
  {
   "cell_type": "code",
   "execution_count": 4,
   "metadata": {},
   "outputs": [
    {
     "name": "stdout",
     "output_type": "stream",
     "text": [
      "65743    [god, hate, flick, can't, believe, sister, got, christmas, great, cast, hope, got, nice, paychecks, make, better, movies, scale, 2, hours, would, merely, bad, nearly, three, hours, makes, almost, ...\n",
      "73053    [somewhere, spirits, three, stooges, decide, death, life, hunt, kill, women, con, serial, killer, dirty, work, sit, get, meantime, ghost, latest, victim, decides, communicate, husband, order, inst...\n",
      "36360                                                                         [would, like, everyone, except, seeing, theatre, yes, buy, yes, complaint, slight, overuse, product, advertising, placement, miss]\n",
      "30998    [rugrats, dvd, celebrates, ten, years, fantastic, adventures, nickelodeon, ten, episodes, included, retrospective, fans, cream, crop, episodes, include, angelica, orders, first, cut, ice, bones, v...\n",
      "71384    [episode, three, star, trek, next, generation's, first, season, first, hand, evidence, new, series, still, long, way, away, developing, complex, involving, storylines, code, honor, nothing, cat, f...\n",
      "Name: reviewText, dtype: object\n",
      "       big  worth  new  excellent  little  long  worst  better  funny  old  \\\n",
      "65743    0      0    0          0       0     0      0       1      0    0   \n",
      "73053    0      0    0          0       0     0      0       0      0    0   \n",
      "36360    0      0    0          0       0     0      0       0      0    0   \n",
      "30998    0      0    0          0       0     0      0       0      0    0   \n",
      "71384    0      0    1          0       1     1      0       1      0    0   \n",
      "\n",
      "          ...       bad  great  young  best  quality  like  set  good  \\\n",
      "65743     ...         1      1      0     0        0     0    0     0   \n",
      "73053     ...         0      0      0     0        0     0    0     1   \n",
      "36360     ...         0      0      0     0        0     1    0     0   \n",
      "30998     ...         0      0      0     0        0     0    0     0   \n",
      "71384     ...         0      0      0     0        0     0    0     0   \n",
      "\n",
      "       special  affin_score  \n",
      "65743        0    -0.061224  \n",
      "73053        0    -0.106383  \n",
      "36360        0     0.000000  \n",
      "30998        1     0.313725  \n",
      "71384        0     0.141844  \n",
      "\n",
      "[5 rows x 23 columns]\n"
     ]
    }
   ],
   "source": [
    "\n",
    "print(X_train_nlp.head())\n",
    "print(X_train_meta.head())"
   ]
  },
  {
   "cell_type": "code",
   "execution_count": 5,
   "metadata": {},
   "outputs": [],
   "source": [
    "# embedding = WordEmbedding(num_features = embedding_size)\n",
    "\n",
    "# WordEmbedding.fit(embedding, X_train_nlp)\n",
    "# WordEmbedding.size(embedding)"
   ]
  },
  {
   "cell_type": "code",
   "execution_count": 6,
   "metadata": {},
   "outputs": [],
   "source": [
    "#Save word embedding to dataframe\n",
    "#train_embeddings = WordEmbedding.to_pd(embedding, X_train)\n",
    "\n",
    "#Save Save embeddings to file\n",
    "# WordEmbedding.to_file(embedding)"
   ]
  },
  {
   "cell_type": "code",
   "execution_count": 7,
   "metadata": {},
   "outputs": [],
   "source": [
    "embeddings_index = import_embedding('glove.42B.300d.txt')"
   ]
  },
  {
   "cell_type": "markdown",
   "metadata": {},
   "source": [
    "## 2. Vectorize text data"
   ]
  },
  {
   "cell_type": "code",
   "execution_count": 8,
   "metadata": {},
   "outputs": [
    {
     "name": "stdout",
     "output_type": "stream",
     "text": [
      "Found 38358 unique tokens.\n",
      "Shape of train tensor (81000, 400)\n",
      "Shape of dev tensor (9000, 400)\n"
     ]
    }
   ],
   "source": [
    "#Basic Vectorization of data\n",
    "#Review data\n",
    "tokenizer = Tokenizer()\n",
    "tokenizer.fit_on_texts(X_train_nlp)\n",
    "word_index = tokenizer.word_index\n",
    "\n",
    "def vectorize(data, tokenizer ,max_len):\n",
    "    sequences = tokenizer.texts_to_sequences(data)\n",
    "    padding = pad_sequences(sequences, maxlen = max_len)\n",
    "    \n",
    "    return padding\n",
    "\n",
    "X_train_nlp = vectorize(X_train_nlp, tokenizer , max_len)\n",
    "X_dev_nlp = vectorize(X_dev_nlp, tokenizer, max_len)\n",
    "\n",
    "print('Found %s unique tokens.' % len(word_index))\n",
    "print('Shape of train tensor', X_train_nlp.shape)\n",
    "print('Shape of dev tensor', X_dev_nlp.shape)"
   ]
  },
  {
   "cell_type": "markdown",
   "metadata": {},
   "source": [
    "## 3. Create word vectors with the loaded word2vec model"
   ]
  },
  {
   "cell_type": "code",
   "execution_count": 9,
   "metadata": {},
   "outputs": [],
   "source": [
    "embedding_matrix, num_words = embedding_matrix_word2vec(word_index, embedding_size, embeddings_index)"
   ]
  },
  {
   "cell_type": "markdown",
   "metadata": {},
   "source": [
    "### Check train/dev sets"
   ]
  },
  {
   "cell_type": "code",
   "execution_count": 10,
   "metadata": {},
   "outputs": [
    {
     "name": "stdout",
     "output_type": "stream",
     "text": [
      "Shape of X_train: (81000, 400)\n",
      "Shape of y_train: (81000, 2)\n",
      "Shape of X_test: (9000, 400)\n",
      "Shape of y_test: (9000, 2)\n"
     ]
    }
   ],
   "source": [
    "print('Shape of X_train:', X_train_nlp.shape)\n",
    "print('Shape of y_train:', y_train.shape)\n",
    "print('Shape of X_test:', X_dev_nlp.shape)\n",
    "print('Shape of y_test:', y_dev.shape)"
   ]
  },
  {
   "cell_type": "markdown",
   "metadata": {},
   "source": [
    "## 5. Define model"
   ]
  },
  {
   "cell_type": "code",
   "execution_count": 11,
   "metadata": {},
   "outputs": [],
   "source": [
    "import keras\n",
    "\n",
    "config = tf.ConfigProto( device_count = {'GPU': 1 , 'CPU': 8} ) \n",
    "config.gpu_options.allow_growth = True\n",
    "sess = tf.Session(config=config) \n",
    "keras.backend.set_session(sess)\n",
    "\n",
    "# from keras import backend as K\n",
    "# K.tensorflow_backend._get_available_gpus()\n",
    "# from tensorflow.python.client import device_lib\n",
    "# print(device_lib.list_local_devices())"
   ]
  },
  {
   "cell_type": "code",
   "execution_count": 12,
   "metadata": {},
   "outputs": [
    {
     "name": "stdout",
     "output_type": "stream",
     "text": [
      "__________________________________________________________________________________________________\n",
      "Layer (type)                    Output Shape         Param #     Connected to                     \n",
      "==================================================================================================\n",
      "nlp_input (InputLayer)          (None, 400)          0                                            \n",
      "__________________________________________________________________________________________________\n",
      "embedding_1 (Embedding)         (None, 400, 300)     11507700    nlp_input[0][0]                  \n",
      "__________________________________________________________________________________________________\n",
      "bidirectional_1 (Bidirectional) (None, 256)          439296      embedding_1[0][0]                \n",
      "__________________________________________________________________________________________________\n",
      "meta_input (InputLayer)         (None, 23)           0                                            \n",
      "__________________________________________________________________________________________________\n",
      "concatenate_1 (Concatenate)     (None, 279)          0           bidirectional_1[0][0]            \n",
      "                                                                 meta_input[0][0]                 \n",
      "__________________________________________________________________________________________________\n",
      "dense_1 (Dense)                 (None, 10)           2800        concatenate_1[0][0]              \n",
      "__________________________________________________________________________________________________\n",
      "dense_2 (Dense)                 (None, 6)            66          dense_1[0][0]                    \n",
      "__________________________________________________________________________________________________\n",
      "dense_3 (Dense)                 (None, 2)            14          dense_2[0][0]                    \n",
      "==================================================================================================\n",
      "Total params: 11,949,876\n",
      "Trainable params: 11,949,876\n",
      "Non-trainable params: 0\n",
      "__________________________________________________________________________________________________\n",
      "None\n"
     ]
    }
   ],
   "source": [
    "from keras.models import Sequential, Model\n",
    "from keras.layers import Dense, Embedding, LSTM, GRU, Bidirectional, MaxPooling1D, Dropout, Input, concatenate\n",
    "from keras.layers.embeddings import Embedding\n",
    "from keras.initializers import Constant\n",
    "from keras import regularizers\n",
    "\n",
    "nlp_input = Input(shape=(max_len,), name='nlp_input')\n",
    "meta_input = Input(shape=(len(X_dev_meta.columns),), name='meta_input')\n",
    "emb = Embedding(output_dim=embedding_size, input_dim=num_words, input_length=max_len)(nlp_input)\n",
    "#pool = MaxPooling1D(pool_size=4, strides=1, padding='valid')(emb)\n",
    "nlp_out = Bidirectional(LSTM(128, dropout=0.3, recurrent_dropout=0.3, kernel_regularizer=regularizers.l2(0.02)))(emb)\n",
    "x = concatenate([nlp_out, meta_input])\n",
    "x = Dense(10, activation='relu')(x)\n",
    "x = Dense(6, activation='relu')(x)\n",
    "x = Dense(2, activation='sigmoid')(x)\n",
    "model = Model(inputs=[nlp_input , meta_input], outputs=[x])\n",
    "print(model.summary())\n",
    "model.compile(loss='binary_crossentropy', optimizer='rmsprop', metrics=['accuracy'])"
   ]
  },
  {
   "cell_type": "code",
   "execution_count": null,
   "metadata": {},
   "outputs": [
    {
     "name": "stdout",
     "output_type": "stream",
     "text": [
      "Train on 81000 samples, validate on 9000 samples\n",
      "Epoch 1/5\n",
      "81000/81000 [==============================] - 161s 2ms/step - loss: 2.3174 - acc: 0.6429 - val_loss: 0.5070 - val_acc: 0.7908\n",
      "Epoch 2/5\n",
      "81000/81000 [==============================] - 158s 2ms/step - loss: 0.4297 - acc: 0.8495 - val_loss: 0.5062 - val_acc: 0.7879\n",
      "Epoch 3/5\n",
      "81000/81000 [==============================] - 158s 2ms/step - loss: 0.3490 - acc: 0.8773 - val_loss: 0.3740 - val_acc: 0.8577\n",
      "Epoch 4/5\n",
      "81000/81000 [==============================] - 158s 2ms/step - loss: 0.3073 - acc: 0.8875 - val_loss: 0.3965 - val_acc: 0.8329\n",
      "Epoch 5/5\n",
      "56320/81000 [===================>..........] - ETA: 46s - loss: 0.2809 - acc: 0.8982"
     ]
    }
   ],
   "source": [
    "train_sets = [X_train_nlp, X_train_meta]\n",
    "dev_sets = [X_dev_nlp, X_dev_meta]\n",
    "history = model.fit(train_sets, y_train, batch_size=256*2, validation_data =(dev_sets, y_dev), epochs=5)"
   ]
  },
  {
   "cell_type": "code",
   "execution_count": null,
   "metadata": {},
   "outputs": [],
   "source": []
  },
  {
   "cell_type": "code",
   "execution_count": null,
   "metadata": {},
   "outputs": [],
   "source": [
    "import matplotlib.pyplot as plt\n",
    "plt.style.use('ggplot')\n",
    "\n",
    "def plot_history(history):\n",
    "    acc = history.history['acc']\n",
    "    val_acc = history.history['val_acc']\n",
    "    loss = history.history['loss']\n",
    "    val_loss = history.history['val_loss']\n",
    "    x = range(1, len(acc) + 1)\n",
    "\n",
    "    plt.figure(figsize=(12, 5))\n",
    "    plt.subplot(1, 3, 1)\n",
    "    plt.plot(x, acc, 'b', label='Training acc')\n",
    "    plt.plot(x, val_acc, 'r', label='Validation acc')\n",
    "    plt.title('Training and validation accuracy')\n",
    "    plt.legend()\n",
    "    plt.subplot(1, 3, 2)\n",
    "    plt.plot(x, loss, 'b', label='Training loss')\n",
    "    plt.plot(x, val_loss, 'r', label='Validation loss')\n",
    "    plt.title('Training and validation loss')\n",
    "    plt.legend()\n",
    "    plt.show()"
   ]
  },
  {
   "cell_type": "code",
   "execution_count": null,
   "metadata": {},
   "outputs": [],
   "source": [
    "loss, accuracy = model.evaluate(train_sets, y_train, verbose=False)\n",
    "print(\"Development Accuracy:  {:.4f}\".format(accuracy))\n",
    "loss, accuracy = model.evaluate(dev_sets, y_dev, verbose=False)\n",
    "print(\"Testing Accuracy:  {:.4f}\".format(accuracy))\n",
    "plot_history(history)"
   ]
  },
  {
   "cell_type": "code",
   "execution_count": null,
   "metadata": {},
   "outputs": [],
   "source": []
  }
 ],
 "metadata": {
  "kernelspec": {
   "display_name": "Python 3",
   "language": "python",
   "name": "python3"
  },
  "language_info": {
   "codemirror_mode": {
    "name": "ipython",
    "version": 3
   },
   "file_extension": ".py",
   "mimetype": "text/x-python",
   "name": "python",
   "nbconvert_exporter": "python",
   "pygments_lexer": "ipython3",
   "version": "3.6.7"
  }
 },
 "nbformat": 4,
 "nbformat_minor": 2
}
