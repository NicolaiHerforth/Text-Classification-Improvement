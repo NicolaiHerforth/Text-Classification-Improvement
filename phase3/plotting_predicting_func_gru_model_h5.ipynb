{
 "cells": [
  {
   "cell_type": "code",
   "execution_count": 1,
   "metadata": {},
   "outputs": [
    {
     "name": "stderr",
     "output_type": "stream",
     "text": [
      "Using TensorFlow backend.\n"
     ]
    }
   ],
   "source": [
    "import os\n",
    "import numpy as np\n",
    "import pandas as pd\n",
    "import tensorflow as tf\n",
    "import pickle\n",
    "from tensorflow.python.keras.preprocessing.text import Tokenizer\n",
    "from tensorflow.python.keras.preprocessing.sequence import pad_sequences\n",
    "from Preprocessing.to_embedding import WordEmbedding\n",
    "from data_format_phase3 import formatting\n",
    "from Preprocessing.helper_functions import import_embedding, embedding_matrix_word2vec\n",
    "from sklearn.model_selection import train_test_split"
   ]
  },
  {
   "cell_type": "code",
   "execution_count": 2,
   "metadata": {},
   "outputs": [
    {
     "name": "stdout",
     "output_type": "stream",
     "text": [
      "[name: \"/device:CPU:0\"\n",
      "device_type: \"CPU\"\n",
      "memory_limit: 268435456\n",
      "locality {\n",
      "}\n",
      "incarnation: 6440859482291386254\n",
      ", name: \"/device:GPU:0\"\n",
      "device_type: \"GPU\"\n",
      "memory_limit: 2390884352\n",
      "locality {\n",
      "  bus_id: 1\n",
      "  links {\n",
      "  }\n",
      "}\n",
      "incarnation: 8158641203189433270\n",
      "physical_device_desc: \"device: 0, name: GeForce RTX 2070, pci bus id: 0000:01:00.0, compute capability: 7.5\"\n",
      "]\n"
     ]
    }
   ],
   "source": [
    "import keras\n",
    "\n",
    "config = tf.ConfigProto( device_count = {'GPU': 1 , 'CPU': 8} ) \n",
    "config.gpu_options.allow_growth = True\n",
    "sess = tf.Session(config=config) \n",
    "keras.backend.set_session(sess)\n",
    "\n",
    "keras.backend.tensorflow_backend._get_available_gpus()\n",
    "from tensorflow.python.client import device_lib\n",
    "print(device_lib.list_local_devices())"
   ]
  },
  {
   "cell_type": "code",
   "execution_count": 3,
   "metadata": {},
   "outputs": [],
   "source": [
    "file_path = open(\"fomatted_data\",'rb')\n",
    "data = pickle.load(file_path)"
   ]
  },
  {
   "cell_type": "code",
   "execution_count": 4,
   "metadata": {},
   "outputs": [],
   "source": [
    "data = data.drop(\"year\", axis=1)\n",
    "\n",
    "#data = data[:round(len(data)*.2)]\n",
    "y = pd.get_dummies(data['polarity'])\n",
    "X_train, X_dev, y_train, y_dev = train_test_split(data, y, test_size = 0.20, random_state=42)\n",
    "\n",
    "X_train_nlp, X_dev_nlp = X_train['reviewText'], X_dev['reviewText']\n",
    "\n",
    "X_train_meta, X_dev_meta = X_train.iloc[:,3:], X_dev.iloc[:,3:]\n",
    "embedding_size = 300 #number of feature weights in embeddings\n",
    "max_len = 400"
   ]
  },
  {
   "cell_type": "code",
   "execution_count": 5,
   "metadata": {},
   "outputs": [
    {
     "name": "stdout",
     "output_type": "stream",
     "text": [
      "Found 38806 unique tokens.\n",
      "Shape of train tensor (72000, 400)\n",
      "Shape of dev tensor (18000, 400)\n"
     ]
    }
   ],
   "source": [
    "#Basic Vectorization of data\n",
    "#Review data\n",
    "tokenizer = Tokenizer()\n",
    "tokenizer.fit_on_texts(X_train_nlp)\n",
    "word_index = tokenizer.word_index\n",
    "\n",
    "def vectorize(data, tokenizer ,max_len):\n",
    "    sequences = tokenizer.texts_to_sequences(data)\n",
    "    padding = pad_sequences(sequences, maxlen = max_len)\n",
    "    \n",
    "    return padding\n",
    "\n",
    "X_train_nlp = vectorize(X_train_nlp, tokenizer , max_len)\n",
    "X_dev_nlp = vectorize(X_dev_nlp, tokenizer, max_len)\n",
    "\n",
    "print('Found %s unique tokens.' % len(word_index))\n",
    "print('Shape of train tensor', X_train_nlp.shape)\n",
    "print('Shape of dev tensor', X_dev_nlp.shape)"
   ]
  },
  {
   "cell_type": "markdown",
   "metadata": {},
   "source": [
    "## Game Data"
   ]
  },
  {
   "cell_type": "code",
   "execution_count": 6,
   "metadata": {},
   "outputs": [
    {
     "name": "stderr",
     "output_type": "stream",
     "text": [
      "/home/dsproj016/anaconda3/envs/py36tfnew/lib/python3.6/site-packages/ipykernel_launcher.py:11: DeprecationWarning: \n",
      ".ix is deprecated. Please use\n",
      ".loc for label based indexing or\n",
      ".iloc for positional indexing\n",
      "\n",
      "See the documentation here:\n",
      "http://pandas.pydata.org/pandas-docs/stable/indexing.html#ix-indexer-is-deprecated\n",
      "  # This is added back by InteractiveShellApp.init_path()\n"
     ]
    },
    {
     "name": "stdout",
     "output_type": "stream",
     "text": [
      "Adding topic features\n",
      "Test registered, writing topics to dataframe\n",
      "Opening topic file\n",
      "Adding test topics\n",
      "['bad', 'funny', 'new', 'old', 'worth', 'long', 'worst', 'big', 'real', 'little', 'original', 'boring', 'excellent', 'acting', 'good', 'interesting', 'set', 'quality', 'special', 'great', 'better', 'best', 'like']\n"
     ]
    }
   ],
   "source": [
    "game_df = pd.read_csv(\"../phase1_video_games-test-hidden.csv\")\n",
    "game_labels = pd.read_csv(\"../true_labels/true_game_labels.txt\", header=None)\n",
    "merged = pd.concat([game_df, game_labels], axis=1).drop('polarity', axis=1).rename(columns={0: \"polarity\"})\n",
    "# get a list of columns\n",
    "cols = list(merged)\n",
    "# move the column to head of list using index, pop and insert\n",
    "cols.insert(0, cols.pop(cols.index('polarity')))\n",
    "cols\n",
    "\n",
    "# use ix to reorder\n",
    "merged = merged.ix[:, cols]\n",
    "merged.to_csv('merged_df.csv', index=False)\n",
    "from data_format_phase3 import formatting\n",
    "game_data = formatting(\"merged_df.csv\", test=True)\n",
    "\n",
    "\n",
    "game_data = game_data.drop('year', axis=1)\n",
    "game_y = pd.get_dummies(game_data['polarity'])\n",
    "\n",
    "\n",
    "\n",
    "\"\"\"HVIS DU ÆNDRE HVOR MANGE FEATURES DER ER, SKAL DU ÆNDRE INDEXERING HER:\"\"\"\n",
    "game_train_meta = game_data.iloc[:,3:]\n",
    "\n",
    "\n",
    "game_train_nlp = game_data['reviewText']\n",
    "\n",
    "game_train_nlp = vectorize(game_train_nlp, tokenizer , max_len)\n",
    "game_sets = [game_train_nlp, game_train_meta]\n",
    "\n",
    "\n",
    "\n",
    "\n",
    "\n",
    "\n",
    "\n"
   ]
  },
  {
   "cell_type": "code",
   "execution_count": 7,
   "metadata": {},
   "outputs": [
    {
     "name": "stdout",
     "output_type": "stream",
     "text": [
      "[array([[    0,     0,     0, ...,   356,   167,   950],\n",
      "       [    0,     0,     0, ...,   648,   470, 28235],\n",
      "       [    0,     0,     0, ...,   648,   186,   199],\n",
      "       ...,\n",
      "       [    0,     0,     0, ...,  2500,  1447,  1411],\n",
      "       [ 1028,  2000,   235, ..., 10914,  9266,  1461],\n",
      "       [    0,     0,     0, ...,    18, 11748,   164]], dtype=int32),        bad  funny  new  old  worth  long  worst  big  real  little  ...  good  \\\n",
      "0        0      0    0    0      0     1      0    0     0       0  ...     0   \n",
      "1        1      0    1    0      1     0      0    0     0       0  ...     1   \n",
      "2        0      0    0    0      0     0      0    0     0       0  ...     1   \n",
      "3        0      0    1    0      0     0      0    0     0       0  ...     0   \n",
      "4        0      0    0    0      0     0      0    0     0       0  ...     0   \n",
      "5        0      1    0    1      1     0      0    0     0       0  ...     1   \n",
      "6        0      0    1    0      0     1      0    0     0       0  ...     0   \n",
      "7        0      0    1    0      0     1      0    1     0       0  ...     0   \n",
      "8        0      0    0    0      0     1      0    0     0       0  ...     0   \n",
      "9        0      0    0    1      0     0      0    0     1       0  ...     0   \n",
      "10       0      0    0    1      0     1      0    1     0       0  ...     0   \n",
      "11       0      0    1    0      0     0      0    0     1       0  ...     1   \n",
      "12       0      0    1    0      0     0      0    0     0       0  ...     0   \n",
      "13       0      0    1    0      0     0      0    0     0       0  ...     0   \n",
      "14       0      0    0    1      1     0      0    0     0       0  ...     0   \n",
      "15       0      0    1    1      0     0      0    0     0       0  ...     0   \n",
      "16       0      0    1    1      0     0      0    0     1       0  ...     1   \n",
      "17       0      0    1    0      1     0      0    1     1       1  ...     1   \n",
      "18       0      0    0    0      0     0      0    1     0       0  ...     0   \n",
      "19       1      0    1    1      0     0      0    0     0       1  ...     1   \n",
      "20       0      0    0    0      0     0      0    1     0       0  ...     0   \n",
      "21       0      0    0    0      0     0      0    0     0       1  ...     0   \n",
      "22       0      0    0    0      0     1      0    0     0       0  ...     1   \n",
      "23       0      0    1    0      0     0      0    0     0       0  ...     0   \n",
      "24       0      0    0    0      0     0      0    0     1       0  ...     1   \n",
      "25       0      0    1    0      0     1      0    1     0       0  ...     0   \n",
      "26       0      0    0    0      0     0      0    0     0       0  ...     0   \n",
      "27       0      0    0    0      0     0      0    0     0       0  ...     0   \n",
      "28       0      0    0    0      1     0      0    0     0       1  ...     1   \n",
      "29       0      0    0    0      0     0      0    0     0       0  ...     0   \n",
      "...    ...    ...  ...  ...    ...   ...    ...  ...   ...     ...  ...   ...   \n",
      "21112    0      0    1    0      0     1      0    0     1       0  ...     1   \n",
      "21113    0      0    1    0      0     0      0    0     0       1  ...     0   \n",
      "21114    0      0    0    0      0     0      0    0     0       0  ...     0   \n",
      "21115    1      0    0    0      0     0      0    0     0       0  ...     1   \n",
      "21116    0      0    0    0      0     1      1    0     0       0  ...     0   \n",
      "21117    0      0    0    0      0     0      1    0     0       0  ...     0   \n",
      "21118    0      0    0    0      0     0      0    0     0       0  ...     0   \n",
      "21119    0      0    0    0      0     0      0    0     0       0  ...     0   \n",
      "21120    1      0    0    0      0     0      0    0     0       0  ...     1   \n",
      "21121    0      0    0    0      0     0      0    1     0       0  ...     0   \n",
      "21122    0      0    0    0      0     0      0    0     0       0  ...     1   \n",
      "21123    1      0    0    0      0     0      1    0     0       0  ...     0   \n",
      "21124    0      0    0    0      0     0      0    0     0       0  ...     1   \n",
      "21125    0      0    0    0      0     0      0    0     0       0  ...     0   \n",
      "21126    0      0    0    0      0     0      0    0     0       0  ...     1   \n",
      "21127    0      0    0    0      0     1      0    0     0       0  ...     0   \n",
      "21128    1      0    0    0      0     0      0    0     1       0  ...     0   \n",
      "21129    1      0    0    1      0     0      0    0     0       1  ...     1   \n",
      "21130    0      0    0    0      0     1      0    0     1       0  ...     1   \n",
      "21131    0      0    1    0      0     0      1    0     0       0  ...     1   \n",
      "21132    0      0    0    0      0     0      0    0     0       0  ...     0   \n",
      "21133    1      0    0    0      0     0      1    0     0       0  ...     0   \n",
      "21134    0      0    0    0      1     0      0    0     0       0  ...     0   \n",
      "21135    1      0    0    0      0     0      0    0     0       0  ...     0   \n",
      "21136    0      0    0    0      0     0      0    0     0       0  ...     0   \n",
      "21137    1      0    0    0      0     0      0    0     0       0  ...     0   \n",
      "21138    0      0    0    0      0     0      0    0     0       1  ...     0   \n",
      "21139    0      0    0    0      0     0      0    0     0       0  ...     1   \n",
      "21140    1      0    0    0      0     1      1    0     1       0  ...     1   \n",
      "21141    0      0    0    0      0     0      0    0     0       0  ...     1   \n",
      "\n",
      "       interesting  set  quality  special  great  better  best  like  \\\n",
      "0                0    0        0        0      1       0     0     1   \n",
      "1                0    0        0        0      0       0     1     1   \n",
      "2                0    1        0        0      0       1     0     1   \n",
      "3                0    0        0        0      0       0     1     1   \n",
      "4                0    0        0        0      0       0     0     1   \n",
      "5                0    0        0        0      0       1     0     1   \n",
      "6                0    0        0        0      1       0     0     1   \n",
      "7                0    0        0        0      1       1     1     1   \n",
      "8                0    0        0        0      1       0     0     0   \n",
      "9                0    0        0        0      1       0     1     1   \n",
      "10               0    0        0        0      0       1     1     0   \n",
      "11               0    0        0        1      1       0     0     1   \n",
      "12               0    0        0        0      0       1     0     0   \n",
      "13               0    0        0        0      0       0     0     0   \n",
      "14               0    0        0        0      1       1     1     0   \n",
      "15               0    0        0        0      0       1     1     1   \n",
      "16               0    0        0        1      1       1     1     1   \n",
      "17               0    0        0        0      0       1     1     0   \n",
      "18               1    0        0        0      1       0     0     1   \n",
      "19               0    0        0        0      1       0     0     1   \n",
      "20               0    0        0        0      0       0     0     0   \n",
      "21               0    0        0        0      0       0     1     0   \n",
      "22               0    0        0        1      0       0     0     1   \n",
      "23               0    0        0        0      1       1     0     0   \n",
      "24               1    0        0        0      0       0     1     1   \n",
      "25               0    0        0        0      0       0     1     0   \n",
      "26               0    0        0        0      0       0     0     0   \n",
      "27               0    0        0        0      1       0     0     0   \n",
      "28               0    0        0        0      1       0     0     1   \n",
      "29               0    0        0        0      1       0     0     0   \n",
      "...            ...  ...      ...      ...    ...     ...   ...   ...   \n",
      "21112            0    0        0        0      0       0     0     0   \n",
      "21113            0    0        0        0      0       0     0     0   \n",
      "21114            0    0        0        0      0       0     0     0   \n",
      "21115            0    0        0        0      1       1     0     1   \n",
      "21116            0    0        0        0      1       0     0     0   \n",
      "21117            0    0        0        0      0       0     0     0   \n",
      "21118            0    0        0        0      0       0     0     0   \n",
      "21119            0    0        0        0      0       1     0     0   \n",
      "21120            0    0        0        0      0       0     0     0   \n",
      "21121            0    0        0        0      0       0     0     0   \n",
      "21122            0    0        0        0      0       0     0     0   \n",
      "21123            0    0        0        0      0       0     0     0   \n",
      "21124            0    0        0        0      0       1     0     1   \n",
      "21125            0    0        0        0      0       0     0     1   \n",
      "21126            0    0        0        0      1       0     0     1   \n",
      "21127            0    0        0        0      0       0     0     1   \n",
      "21128            0    0        0        0      0       1     0     1   \n",
      "21129            0    0        0        0      0       1     1     1   \n",
      "21130            0    0        0        1      0       0     0     1   \n",
      "21131            0    0        0        0      0       0     0     0   \n",
      "21132            0    0        0        0      0       0     0     0   \n",
      "21133            0    0        0        0      0       0     0     1   \n",
      "21134            0    0        0        0      0       1     0     0   \n",
      "21135            0    0        0        0      0       0     0     0   \n",
      "21136            0    0        0        0      0       0     0     1   \n",
      "21137            0    0        0        1      0       1     0     0   \n",
      "21138            0    0        0        0      0       1     0     0   \n",
      "21139            0    0        0        0      0       0     0     1   \n",
      "21140            0    0        0        1      0       1     1     1   \n",
      "21141            0    0        0        0      0       1     0     0   \n",
      "\n",
      "       affin_score  \n",
      "0         0.217143  \n",
      "1         0.218391  \n",
      "2         0.203390  \n",
      "3         0.480000  \n",
      "4         0.081967  \n",
      "5         0.000000  \n",
      "6         0.105263  \n",
      "7        -0.141762  \n",
      "8         0.129630  \n",
      "9         0.126168  \n",
      "10        0.229249  \n",
      "11        0.023077  \n",
      "12       -0.046875  \n",
      "13        0.375000  \n",
      "14        0.217391  \n",
      "15        0.216049  \n",
      "16        0.096667  \n",
      "17        0.209581  \n",
      "18        0.314286  \n",
      "19        0.194915  \n",
      "20        0.156250  \n",
      "21        0.093458  \n",
      "22        0.059072  \n",
      "23        0.259259  \n",
      "24        0.187970  \n",
      "25        0.300000  \n",
      "26        0.160000  \n",
      "27        0.176471  \n",
      "28        0.350000  \n",
      "29        0.228571  \n",
      "...            ...  \n",
      "21112     0.072464  \n",
      "21113     0.076923  \n",
      "21114    -0.076923  \n",
      "21115    -0.081967  \n",
      "21116    -0.035714  \n",
      "21117    -0.588235  \n",
      "21118     0.282051  \n",
      "21119     0.155556  \n",
      "21120     0.186441  \n",
      "21121    -0.407407  \n",
      "21122     0.000000  \n",
      "21123    -0.160714  \n",
      "21124    -0.038462  \n",
      "21125    -0.192982  \n",
      "21126     0.235294  \n",
      "21127     0.115385  \n",
      "21128    -0.107843  \n",
      "21129    -0.022472  \n",
      "21130     0.016260  \n",
      "21131     0.021739  \n",
      "21132    -0.048780  \n",
      "21133    -0.409836  \n",
      "21134     0.085714  \n",
      "21135     0.089286  \n",
      "21136    -0.125000  \n",
      "21137    -0.012658  \n",
      "21138    -0.302326  \n",
      "21139    -0.083333  \n",
      "21140     0.036184  \n",
      "21141     0.125000  \n",
      "\n",
      "[21142 rows x 24 columns]]\n"
     ]
    }
   ],
   "source": [
    "print(game_sets)"
   ]
  },
  {
   "cell_type": "code",
   "execution_count": null,
   "metadata": {},
   "outputs": [],
   "source": []
  },
  {
   "cell_type": "code",
   "execution_count": null,
   "metadata": {},
   "outputs": [],
   "source": []
  },
  {
   "cell_type": "code",
   "execution_count": null,
   "metadata": {},
   "outputs": [],
   "source": []
  },
  {
   "cell_type": "markdown",
   "metadata": {},
   "source": [
    "## Movie Data"
   ]
  },
  {
   "cell_type": "code",
   "execution_count": 8,
   "metadata": {},
   "outputs": [
    {
     "name": "stderr",
     "output_type": "stream",
     "text": [
      "/home/dsproj016/anaconda3/envs/py36tfnew/lib/python3.6/site-packages/ipykernel_launcher.py:11: DeprecationWarning: \n",
      ".ix is deprecated. Please use\n",
      ".loc for label based indexing or\n",
      ".iloc for positional indexing\n",
      "\n",
      "See the documentation here:\n",
      "http://pandas.pydata.org/pandas-docs/stable/indexing.html#ix-indexer-is-deprecated\n",
      "  # This is added back by InteractiveShellApp.init_path()\n"
     ]
    },
    {
     "name": "stdout",
     "output_type": "stream",
     "text": [
      "Adding topic features\n",
      "Test registered, writing topics to dataframe\n",
      "Opening topic file\n",
      "Adding test topics\n",
      "['bad', 'funny', 'new', 'old', 'worth', 'long', 'worst', 'big', 'real', 'little', 'original', 'boring', 'excellent', 'acting', 'good', 'interesting', 'set', 'quality', 'special', 'great', 'better', 'best', 'like']\n"
     ]
    }
   ],
   "source": [
    "movie_df = pd.read_csv(\"../phase1_movie_reviews-test-hidden.csv\")\n",
    "movie_labels = pd.read_csv(\"../true_labels/true_movie_labels.txt\", header=None)\n",
    "merged = pd.concat([movie_df, movie_labels], axis=1).drop('polarity', axis=1).rename(columns={0: \"polarity\"})\n",
    "# get a list of columns\n",
    "cols = list(merged)\n",
    "# move the column to head of list using index, pop and insert\n",
    "cols.insert(0, cols.pop(cols.index('polarity')))\n",
    "cols\n",
    "\n",
    "# use ix to reorder\n",
    "merged = merged.ix[:, cols]\n",
    "merged.to_csv('merged_df.csv', index=False)\n",
    "from data_format_phase3 import formatting\n",
    "movie_data = formatting(\"merged_df.csv\", test=True)\n",
    "\n",
    "movie_data = movie_data.drop('year', axis=1)\n",
    "movie_y = pd.get_dummies(movie_data['polarity'])\n",
    "\n",
    "\n",
    "\n",
    "\"\"\"HVIS DU ÆNDRE HVOR MANGE FEATURES DER ER, SKAL DU ÆNDRE INDEXERING HER:\"\"\"\n",
    "movie_train_meta = movie_data.iloc[:,3:]\n",
    "\n",
    "\n",
    "movie_train_nlp = movie_data['reviewText']\n",
    "\n",
    "movie_train_nlp = vectorize(movie_train_nlp, tokenizer , max_len)\n",
    "movie_sets = [movie_train_nlp, movie_train_meta]\n",
    "\n",
    "\n",
    "\n",
    "\n",
    "\n"
   ]
  },
  {
   "cell_type": "code",
   "execution_count": 9,
   "metadata": {},
   "outputs": [],
   "source": [
    "from keras.models import load_model\n",
    "# Returns a compiled model identical to the previous one\n",
    "model = load_model('funct_GRU_model.h5')\n"
   ]
  },
  {
   "cell_type": "code",
   "execution_count": 10,
   "metadata": {},
   "outputs": [
    {
     "name": "stdout",
     "output_type": "stream",
     "text": [
      "21142/21142 [==============================] - 13s 634us/step\n",
      "10000/10000 [==============================] - 6s 582us/step\n"
     ]
    }
   ],
   "source": [
    "predicted_game = model.predict(x=game_sets,batch_size=200, verbose=1)\n",
    "\n",
    "\n",
    "#ARGMAX PREDICTIONS GAME\n",
    "for i in predicted_game:\n",
    "    max_idx = np.argmax(i)\n",
    "    if max_idx == 0:\n",
    "        i[0] = 1\n",
    "        i[1] = 0\n",
    "    else:\n",
    "        i[1] = 1\n",
    "        i[0] = 0\n",
    "        \n",
    "        \n",
    "\n",
    "\n",
    "predicted_movie = model.predict(x=movie_sets,batch_size=200, verbose=1)\n",
    "        \n",
    "#ARGMAX PREDICTIONS MOVIE\n",
    "for i in predicted_movie:\n",
    "    max_idx = np.argmax(i)\n",
    "    if max_idx == 0:\n",
    "        i[0] = 1\n",
    "        i[1] = 0\n",
    "    else:\n",
    "        i[1] = 1\n",
    "        i[0] = 0\n",
    "        \n"
   ]
  },
  {
   "cell_type": "code",
   "execution_count": 11,
   "metadata": {},
   "outputs": [
    {
     "name": "stdout",
     "output_type": "stream",
     "text": [
      "[[0 1]\n",
      " [0 1]\n",
      " [0 1]\n",
      " ...\n",
      " [1 0]\n",
      " [1 0]\n",
      " [1 0]]\n",
      "[[0. 1.]\n",
      " [0. 1.]\n",
      " [0. 1.]\n",
      " ...\n",
      " [1. 0.]\n",
      " [1. 0.]\n",
      " [1. 0.]]\n",
      "<class 'numpy.ndarray'>\n",
      "<class 'numpy.ndarray'>\n"
     ]
    },
    {
     "name": "stderr",
     "output_type": "stream",
     "text": [
      "/home/dsproj016/anaconda3/envs/py36tfnew/lib/python3.6/site-packages/ipykernel_launcher.py:1: FutureWarning: Method .as_matrix will be removed in a future version. Use .values instead.\n",
      "  \"\"\"Entry point for launching an IPython kernel.\n"
     ]
    }
   ],
   "source": [
    "game_y = game_y.as_matrix()\n",
    "print(game_y)\n",
    "print(predicted_game)\n",
    "\n",
    "print(type(game_y))\n",
    "print(type(predicted_game))"
   ]
  },
  {
   "cell_type": "code",
   "execution_count": 12,
   "metadata": {},
   "outputs": [
    {
     "name": "stdout",
     "output_type": "stream",
     "text": [
      "[[0 1]\n",
      " [0 1]\n",
      " [0 1]\n",
      " ...\n",
      " [1 0]\n",
      " [1 0]\n",
      " [1 0]]\n",
      "[[0. 1.]\n",
      " [1. 0.]\n",
      " [0. 1.]\n",
      " ...\n",
      " [1. 0.]\n",
      " [0. 1.]\n",
      " [1. 0.]]\n",
      "<class 'numpy.ndarray'>\n",
      "<class 'numpy.ndarray'>\n"
     ]
    },
    {
     "name": "stderr",
     "output_type": "stream",
     "text": [
      "/home/dsproj016/anaconda3/envs/py36tfnew/lib/python3.6/site-packages/ipykernel_launcher.py:1: FutureWarning: Method .as_matrix will be removed in a future version. Use .values instead.\n",
      "  \"\"\"Entry point for launching an IPython kernel.\n"
     ]
    }
   ],
   "source": [
    "movie_y = movie_y.as_matrix()\n",
    "print(movie_y)\n",
    "print(predicted_movie)\n",
    "\n",
    "print(type(game_y))\n",
    "print(type(predicted_movie))"
   ]
  },
  {
   "cell_type": "markdown",
   "metadata": {},
   "source": [
    "## Accuracy score Game data: \n"
   ]
  },
  {
   "cell_type": "code",
   "execution_count": 13,
   "metadata": {},
   "outputs": [],
   "source": [
    "from sklearn.metrics import accuracy_score"
   ]
  },
  {
   "cell_type": "code",
   "execution_count": 14,
   "metadata": {},
   "outputs": [
    {
     "data": {
      "text/plain": [
       "0.8578185602119005"
      ]
     },
     "execution_count": 14,
     "metadata": {},
     "output_type": "execute_result"
    }
   ],
   "source": [
    "y_pred_game = predicted_game\n",
    "y_true_game = game_y\n",
    "accuracy_score(y_true_game, y_pred_game)"
   ]
  },
  {
   "cell_type": "markdown",
   "metadata": {},
   "source": [
    "## Accuracy score movie data: "
   ]
  },
  {
   "cell_type": "code",
   "execution_count": 15,
   "metadata": {},
   "outputs": [
    {
     "data": {
      "text/plain": [
       "0.8825"
      ]
     },
     "execution_count": 15,
     "metadata": {},
     "output_type": "execute_result"
    }
   ],
   "source": [
    "y_pred_movie = predicted_movie\n",
    "y_true_movie = movie_y\n",
    "accuracy_score(y_true_movie, y_pred_movie)"
   ]
  },
  {
   "cell_type": "markdown",
   "metadata": {},
   "source": [
    "## Precision, Recall, f1-score for Game Data"
   ]
  },
  {
   "cell_type": "code",
   "execution_count": 16,
   "metadata": {},
   "outputs": [],
   "source": [
    "from sklearn.metrics import classification_report"
   ]
  },
  {
   "cell_type": "code",
   "execution_count": 17,
   "metadata": {},
   "outputs": [
    {
     "name": "stdout",
     "output_type": "stream",
     "text": [
      "              precision    recall  f1-score   support\n",
      "\n",
      "     class 0       0.88      0.83      0.85     10571\n",
      "     class 1       0.84      0.88      0.86     10571\n",
      "\n",
      "   micro avg       0.86      0.86      0.86     21142\n",
      "   macro avg       0.86      0.86      0.86     21142\n",
      "weighted avg       0.86      0.86      0.86     21142\n",
      " samples avg       0.86      0.86      0.86     21142\n",
      "\n"
     ]
    }
   ],
   "source": [
    "target_names = ['class 0', 'class 1']\n",
    "print(classification_report(game_y, predicted_game, target_names=target_names))"
   ]
  },
  {
   "cell_type": "markdown",
   "metadata": {},
   "source": [
    "## Precision, Recall, f1-score for Movie Data"
   ]
  },
  {
   "cell_type": "code",
   "execution_count": 18,
   "metadata": {},
   "outputs": [
    {
     "name": "stdout",
     "output_type": "stream",
     "text": [
      "              precision    recall  f1-score   support\n",
      "\n",
      "     class 0       0.89      0.87      0.88      4973\n",
      "     class 1       0.87      0.90      0.88      5027\n",
      "\n",
      "   micro avg       0.88      0.88      0.88     10000\n",
      "   macro avg       0.88      0.88      0.88     10000\n",
      "weighted avg       0.88      0.88      0.88     10000\n",
      " samples avg       0.88      0.88      0.88     10000\n",
      "\n"
     ]
    }
   ],
   "source": [
    "target_names = ['class 0', 'class 1']\n",
    "print(classification_report(movie_y, predicted_movie, target_names=target_names))"
   ]
  },
  {
   "cell_type": "code",
   "execution_count": null,
   "metadata": {},
   "outputs": [],
   "source": []
  }
 ],
 "metadata": {
  "kernelspec": {
   "display_name": "Python 3",
   "language": "python",
   "name": "python3"
  },
  "language_info": {
   "codemirror_mode": {
    "name": "ipython",
    "version": 3
   },
   "file_extension": ".py",
   "mimetype": "text/x-python",
   "name": "python",
   "nbconvert_exporter": "python",
   "pygments_lexer": "ipython3",
   "version": "3.6.8"
  }
 },
 "nbformat": 4,
 "nbformat_minor": 2
}
