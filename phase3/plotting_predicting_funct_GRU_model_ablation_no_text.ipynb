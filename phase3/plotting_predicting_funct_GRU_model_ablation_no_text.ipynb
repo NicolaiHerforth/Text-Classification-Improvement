{
 "cells": [
  {
   "cell_type": "code",
   "execution_count": 1,
   "metadata": {},
   "outputs": [
    {
     "name": "stderr",
     "output_type": "stream",
     "text": [
      "Using TensorFlow backend.\n"
     ]
    }
   ],
   "source": [
    "import os\n",
    "import numpy as np\n",
    "import pandas as pd\n",
    "import tensorflow as tf\n",
    "import pickle\n",
    "from tensorflow.python.keras.preprocessing.text import Tokenizer\n",
    "from tensorflow.python.keras.preprocessing.sequence import pad_sequences\n",
    "from Preprocessing.to_embedding import WordEmbedding\n",
    "from data_format_phase3 import formatting\n",
    "from Preprocessing.helper_functions import import_embedding, embedding_matrix_word2vec\n",
    "from sklearn.model_selection import train_test_split"
   ]
  },
  {
   "cell_type": "code",
   "execution_count": 2,
   "metadata": {},
   "outputs": [
    {
     "name": "stdout",
     "output_type": "stream",
     "text": [
      "[name: \"/device:CPU:0\"\n",
      "device_type: \"CPU\"\n",
      "memory_limit: 268435456\n",
      "locality {\n",
      "}\n",
      "incarnation: 13983973283299293097\n",
      ", name: \"/device:GPU:0\"\n",
      "device_type: \"GPU\"\n",
      "memory_limit: 4977721344\n",
      "locality {\n",
      "  bus_id: 1\n",
      "  links {\n",
      "  }\n",
      "}\n",
      "incarnation: 8874858971972510762\n",
      "physical_device_desc: \"device: 0, name: GeForce RTX 2070, pci bus id: 0000:01:00.0, compute capability: 7.5\"\n",
      "]\n"
     ]
    }
   ],
   "source": [
    "import keras\n",
    "\n",
    "config = tf.ConfigProto( device_count = {'GPU': 1 , 'CPU': 8} ) \n",
    "config.gpu_options.allow_growth = True\n",
    "sess = tf.Session(config=config) \n",
    "keras.backend.set_session(sess)\n",
    "\n",
    "keras.backend.tensorflow_backend._get_available_gpus()\n",
    "from tensorflow.python.client import device_lib\n",
    "print(device_lib.list_local_devices())"
   ]
  },
  {
   "cell_type": "code",
   "execution_count": 3,
   "metadata": {},
   "outputs": [],
   "source": [
    "file_path = open(\"fomatted_data\",'rb')\n",
    "data = pickle.load(file_path)"
   ]
  },
  {
   "cell_type": "code",
   "execution_count": 4,
   "metadata": {},
   "outputs": [],
   "source": [
    "data = data.drop(\"year\", axis=1)\n",
    "\n",
    "#data = data[:round(len(data)*.2)]\n",
    "y = pd.get_dummies(data['polarity'])\n",
    "X_train, X_dev, y_train, y_dev = train_test_split(data, y, test_size = 0.20, random_state=42)\n",
    "\n",
    "X_train_nlp, X_dev_nlp = X_train['reviewText'], X_dev['reviewText']\n",
    "\n",
    "X_train_meta, X_dev_meta = X_train.iloc[:,3:], X_dev.iloc[:,3:]\n",
    "embedding_size = 300 #number of feature weights in embeddings\n",
    "max_len = 400"
   ]
  },
  {
   "cell_type": "code",
   "execution_count": 5,
   "metadata": {},
   "outputs": [
    {
     "name": "stdout",
     "output_type": "stream",
     "text": [
      "Found 38806 unique tokens.\n",
      "Shape of train tensor (72000, 400)\n",
      "Shape of dev tensor (18000, 400)\n"
     ]
    }
   ],
   "source": [
    "#Basic Vectorization of data\n",
    "#Review data\n",
    "tokenizer = Tokenizer()\n",
    "tokenizer.fit_on_texts(X_train_nlp)\n",
    "word_index = tokenizer.word_index\n",
    "\n",
    "def vectorize(data, tokenizer ,max_len):\n",
    "    sequences = tokenizer.texts_to_sequences(data)\n",
    "    padding = pad_sequences(sequences, maxlen = max_len)\n",
    "    \n",
    "    return padding\n",
    "\n",
    "X_train_nlp = vectorize(X_train_nlp, tokenizer , max_len)\n",
    "X_dev_nlp = vectorize(X_dev_nlp, tokenizer, max_len)\n",
    "\n",
    "print('Found %s unique tokens.' % len(word_index))\n",
    "print('Shape of train tensor', X_train_nlp.shape)\n",
    "print('Shape of dev tensor', X_dev_nlp.shape)"
   ]
  },
  {
   "cell_type": "markdown",
   "metadata": {},
   "source": [
    "## Game Data"
   ]
  },
  {
   "cell_type": "code",
   "execution_count": 6,
   "metadata": {},
   "outputs": [
    {
     "name": "stderr",
     "output_type": "stream",
     "text": [
      "/home/dsproj016/anaconda3/envs/py36tfnew/lib/python3.6/site-packages/ipykernel_launcher.py:15: DeprecationWarning: \n",
      ".ix is deprecated. Please use\n",
      ".loc for label based indexing or\n",
      ".iloc for positional indexing\n",
      "\n",
      "See the documentation here:\n",
      "http://pandas.pydata.org/pandas-docs/stable/indexing.html#ix-indexer-is-deprecated\n",
      "  from ipykernel import kernelapp as app\n"
     ]
    },
    {
     "name": "stdout",
     "output_type": "stream",
     "text": [
      "Adding topic features\n",
      "Test registered, writing topics to dataframe\n",
      "Opening topic file\n",
      "Adding test topics\n",
      "['bad', 'funny', 'new', 'old', 'worth', 'long', 'worst', 'big', 'real', 'little', 'original', 'boring', 'excellent', 'acting', 'good', 'interesting', 'set', 'quality', 'special', 'great', 'better', 'best', 'like']\n"
     ]
    }
   ],
   "source": [
    "game_df = pd.read_csv(\"../phase1_video_games-test-hidden.csv\")\n",
    "game_labels = pd.read_csv(\"../true_labels/true_game_labels.txt\", header=None)\n",
    "merged = pd.concat([game_df, game_labels], axis=1).drop('polarity', axis=1).rename(columns={0: \"polarity\"})\n",
    "\n",
    "\n",
    "\n",
    "# get a list of columns\n",
    "\n",
    "cols = list(merged)\n",
    "# move the column to head of list using index, pop and insert\n",
    "cols.insert(0, cols.pop(cols.index('polarity')))\n",
    "cols\n",
    "\n",
    "# use ix to reorder\n",
    "merged = merged.ix[:, cols]\n",
    "merged.to_csv('merged_df.csv', index=False)\n",
    "\n",
    "\n",
    "\n",
    "from data_format_phase3 import formatting\n",
    "game_data = formatting(\"merged_df.csv\", test=True)\n",
    "\n",
    "game_data = game_data.drop('year', axis=1)\n",
    "game_data[\"noText\"] = \"\"\n",
    "\n",
    "game_y = pd.get_dummies(game_data['polarity'])\n",
    "\n",
    "\n",
    "\n",
    "\n",
    "\"\"\"HVIS DU ÆNDRE HVOR MANGE FEATURES DER ER, SKAL DU ÆNDRE INDEXERING HER:\"\"\"\n",
    "game_train_meta = game_data.iloc[:,3:-1]\n",
    "\n",
    "\n",
    "game_train_nlp = game_data['noText']\n",
    "\n",
    "game_train_nlp = vectorize(game_train_nlp, tokenizer , max_len)\n",
    "game_sets = [game_train_nlp, game_train_meta]\n",
    "\n"
   ]
  },
  {
   "cell_type": "code",
   "execution_count": 7,
   "metadata": {},
   "outputs": [
    {
     "name": "stdout",
     "output_type": "stream",
     "text": [
      "<class 'pandas.core.frame.DataFrame'>\n",
      "Int64Index: 21142 entries, 0 to 21141\n",
      "Data columns (total 28 columns):\n",
      "polarity       21142 non-null object\n",
      "summary        21142 non-null object\n",
      "reviewText     21142 non-null object\n",
      "bad            21142 non-null int64\n",
      "funny          21142 non-null int64\n",
      "new            21142 non-null int64\n",
      "old            21142 non-null int64\n",
      "worth          21142 non-null int64\n",
      "long           21142 non-null int64\n",
      "worst          21142 non-null int64\n",
      "big            21142 non-null int64\n",
      "real           21142 non-null int64\n",
      "little         21142 non-null int64\n",
      "original       21142 non-null int64\n",
      "boring         21142 non-null int64\n",
      "excellent      21142 non-null int64\n",
      "acting         21142 non-null int64\n",
      "good           21142 non-null int64\n",
      "interesting    21142 non-null int64\n",
      "set            21142 non-null int64\n",
      "quality        21142 non-null int64\n",
      "special        21142 non-null int64\n",
      "great          21142 non-null int64\n",
      "better         21142 non-null int64\n",
      "best           21142 non-null int64\n",
      "like           21142 non-null int64\n",
      "affin_score    21142 non-null float64\n",
      "noText         21142 non-null object\n",
      "dtypes: float64(1), int64(23), object(4)\n",
      "memory usage: 5.3+ MB\n"
     ]
    }
   ],
   "source": [
    "game_data.info()\n",
    "\n",
    "#game_data.drop('affin_score', axis=1, inplace=True)\n",
    "\n",
    "\n",
    "\n"
   ]
  },
  {
   "cell_type": "code",
   "execution_count": null,
   "metadata": {},
   "outputs": [],
   "source": []
  },
  {
   "cell_type": "code",
   "execution_count": null,
   "metadata": {},
   "outputs": [],
   "source": []
  },
  {
   "cell_type": "code",
   "execution_count": null,
   "metadata": {},
   "outputs": [],
   "source": []
  },
  {
   "cell_type": "markdown",
   "metadata": {},
   "source": [
    "## Movie Data"
   ]
  },
  {
   "cell_type": "code",
   "execution_count": 8,
   "metadata": {},
   "outputs": [
    {
     "name": "stderr",
     "output_type": "stream",
     "text": [
      "/home/dsproj016/anaconda3/envs/py36tfnew/lib/python3.6/site-packages/ipykernel_launcher.py:11: DeprecationWarning: \n",
      ".ix is deprecated. Please use\n",
      ".loc for label based indexing or\n",
      ".iloc for positional indexing\n",
      "\n",
      "See the documentation here:\n",
      "http://pandas.pydata.org/pandas-docs/stable/indexing.html#ix-indexer-is-deprecated\n",
      "  # This is added back by InteractiveShellApp.init_path()\n"
     ]
    },
    {
     "name": "stdout",
     "output_type": "stream",
     "text": [
      "Adding topic features\n",
      "Test registered, writing topics to dataframe\n",
      "Opening topic file\n",
      "Adding test topics\n",
      "['bad', 'funny', 'new', 'old', 'worth', 'long', 'worst', 'big', 'real', 'little', 'original', 'boring', 'excellent', 'acting', 'good', 'interesting', 'set', 'quality', 'special', 'great', 'better', 'best', 'like']\n"
     ]
    }
   ],
   "source": [
    "movie_df = pd.read_csv(\"../phase1_movie_reviews-test-hidden.csv\")\n",
    "movie_labels = pd.read_csv(\"../true_labels/true_movie_labels.txt\", header=None)\n",
    "merged = pd.concat([movie_df, movie_labels], axis=1).drop('polarity', axis=1).rename(columns={0: \"polarity\"})\n",
    "# get a list of columns\n",
    "cols = list(merged)\n",
    "# move the column to head of list using index, pop and insert\n",
    "cols.insert(0, cols.pop(cols.index('polarity')))\n",
    "cols\n",
    "\n",
    "# use ix to reorder\n",
    "merged = merged.ix[:, cols]\n",
    "merged.to_csv('merged_df.csv', index=False)\n",
    "from data_format_phase3 import formatting\n",
    "movie_data = formatting(\"merged_df.csv\", test=True)\n",
    "\n",
    "movie_data = movie_data.drop('year', axis=1)\n",
    "movie_data[\"noText\"] = \"\"\n",
    "\n",
    "movie_y = pd.get_dummies(movie_data['polarity'])\n",
    "\n",
    "\n",
    "\n",
    "\"\"\"HVIS DU ÆNDRE HVOR MANGE FEATURES DER ER, SKAL DU ÆNDRE INDEXERING HER:\"\"\"\n",
    "movie_train_meta = movie_data.iloc[:,3:-1]\n",
    "\n",
    "\n",
    "movie_train_nlp = movie_data['noText']\n",
    "\n",
    "movie_train_nlp = vectorize(movie_train_nlp, tokenizer , max_len)\n",
    "\n",
    "movie_sets = [movie_train_nlp, movie_train_meta]\n",
    "\n",
    "\n",
    "\n",
    "\n",
    "\n"
   ]
  },
  {
   "cell_type": "code",
   "execution_count": 9,
   "metadata": {},
   "outputs": [
    {
     "name": "stdout",
     "output_type": "stream",
     "text": [
      "<class 'pandas.core.frame.DataFrame'>\n",
      "Int64Index: 10000 entries, 0 to 9999\n",
      "Data columns (total 28 columns):\n",
      "polarity       10000 non-null object\n",
      "summary        10000 non-null object\n",
      "reviewText     10000 non-null object\n",
      "bad            10000 non-null int64\n",
      "funny          10000 non-null int64\n",
      "new            10000 non-null int64\n",
      "old            10000 non-null int64\n",
      "worth          10000 non-null int64\n",
      "long           10000 non-null int64\n",
      "worst          10000 non-null int64\n",
      "big            10000 non-null int64\n",
      "real           10000 non-null int64\n",
      "little         10000 non-null int64\n",
      "original       10000 non-null int64\n",
      "boring         10000 non-null int64\n",
      "excellent      10000 non-null int64\n",
      "acting         10000 non-null int64\n",
      "good           10000 non-null int64\n",
      "interesting    10000 non-null int64\n",
      "set            10000 non-null int64\n",
      "quality        10000 non-null int64\n",
      "special        10000 non-null int64\n",
      "great          10000 non-null int64\n",
      "better         10000 non-null int64\n",
      "best           10000 non-null int64\n",
      "like           10000 non-null int64\n",
      "affin_score    10000 non-null float64\n",
      "noText         10000 non-null object\n",
      "dtypes: float64(1), int64(23), object(4)\n",
      "memory usage: 2.5+ MB\n"
     ]
    }
   ],
   "source": [
    "movie_data.info()"
   ]
  },
  {
   "cell_type": "code",
   "execution_count": 10,
   "metadata": {},
   "outputs": [],
   "source": [
    "from keras.models import load_model\n",
    "# Returns a compiled model identical to the previous one\n",
    "model = load_model('funct_GRU_model_ablation_no_text.h5')\n"
   ]
  },
  {
   "cell_type": "code",
   "execution_count": 11,
   "metadata": {},
   "outputs": [
    {
     "name": "stdout",
     "output_type": "stream",
     "text": [
      "21142/21142 [==============================] - 12s 571us/step\n",
      "10000/10000 [==============================] - 6s 579us/step\n"
     ]
    }
   ],
   "source": [
    "predicted_game = model.predict(x=game_sets,batch_size=200, verbose=1)\n",
    "\n",
    "\n",
    "#ARGMAX PREDICTIONS GAME\n",
    "for i in predicted_game:\n",
    "    max_idx = np.argmax(i)\n",
    "    if max_idx == 0:\n",
    "        i[0] = 1\n",
    "        i[1] = 0\n",
    "    else:\n",
    "        i[1] = 1\n",
    "        i[0] = 0\n",
    "        \n",
    "        \n",
    "\n",
    "\n",
    "predicted_movie = model.predict(x=movie_sets,batch_size=200, verbose=1)\n",
    "        \n",
    "#ARGMAX PREDICTIONS MOVIE\n",
    "for i in predicted_movie:\n",
    "    max_idx = np.argmax(i)\n",
    "    if max_idx == 0:\n",
    "        i[0] = 1\n",
    "        i[1] = 0\n",
    "    else:\n",
    "        i[1] = 1\n",
    "        i[0] = 0\n",
    "        \n"
   ]
  },
  {
   "cell_type": "code",
   "execution_count": 12,
   "metadata": {},
   "outputs": [
    {
     "name": "stdout",
     "output_type": "stream",
     "text": [
      "[[0 1]\n",
      " [0 1]\n",
      " [0 1]\n",
      " ...\n",
      " [1 0]\n",
      " [1 0]\n",
      " [1 0]]\n",
      "[[0. 1.]\n",
      " [0. 1.]\n",
      " [1. 0.]\n",
      " ...\n",
      " [1. 0.]\n",
      " [1. 0.]\n",
      " [1. 0.]]\n",
      "<class 'numpy.ndarray'>\n",
      "<class 'numpy.ndarray'>\n"
     ]
    },
    {
     "name": "stderr",
     "output_type": "stream",
     "text": [
      "/home/dsproj016/anaconda3/envs/py36tfnew/lib/python3.6/site-packages/ipykernel_launcher.py:1: FutureWarning: Method .as_matrix will be removed in a future version. Use .values instead.\n",
      "  \"\"\"Entry point for launching an IPython kernel.\n"
     ]
    }
   ],
   "source": [
    "game_y = game_y.as_matrix()\n",
    "print(game_y)\n",
    "print(predicted_game)\n",
    "\n",
    "print(type(game_y))\n",
    "print(type(predicted_game))"
   ]
  },
  {
   "cell_type": "code",
   "execution_count": 13,
   "metadata": {},
   "outputs": [
    {
     "name": "stdout",
     "output_type": "stream",
     "text": [
      "[[0 1]\n",
      " [0 1]\n",
      " [0 1]\n",
      " ...\n",
      " [1 0]\n",
      " [1 0]\n",
      " [1 0]]\n",
      "[[0. 1.]\n",
      " [1. 0.]\n",
      " [0. 1.]\n",
      " ...\n",
      " [1. 0.]\n",
      " [0. 1.]\n",
      " [1. 0.]]\n",
      "<class 'numpy.ndarray'>\n",
      "<class 'numpy.ndarray'>\n"
     ]
    },
    {
     "name": "stderr",
     "output_type": "stream",
     "text": [
      "/home/dsproj016/anaconda3/envs/py36tfnew/lib/python3.6/site-packages/ipykernel_launcher.py:1: FutureWarning: Method .as_matrix will be removed in a future version. Use .values instead.\n",
      "  \"\"\"Entry point for launching an IPython kernel.\n"
     ]
    }
   ],
   "source": [
    "movie_y = movie_y.as_matrix()\n",
    "print(movie_y)\n",
    "print(predicted_movie)\n",
    "\n",
    "print(type(game_y))\n",
    "print(type(predicted_movie))"
   ]
  },
  {
   "cell_type": "markdown",
   "metadata": {},
   "source": [
    "## Accuracy score Game data: \n"
   ]
  },
  {
   "cell_type": "code",
   "execution_count": 14,
   "metadata": {},
   "outputs": [],
   "source": [
    "from sklearn.metrics import accuracy_score"
   ]
  },
  {
   "cell_type": "code",
   "execution_count": 15,
   "metadata": {},
   "outputs": [
    {
     "data": {
      "text/plain": [
       "0.7456248226279444"
      ]
     },
     "execution_count": 15,
     "metadata": {},
     "output_type": "execute_result"
    }
   ],
   "source": [
    "y_pred_game = predicted_game\n",
    "y_true_game = game_y\n",
    "accuracy_score(y_true_game, y_pred_game)"
   ]
  },
  {
   "cell_type": "markdown",
   "metadata": {},
   "source": [
    "## Accuracy score movie data: "
   ]
  },
  {
   "cell_type": "code",
   "execution_count": 16,
   "metadata": {},
   "outputs": [
    {
     "data": {
      "text/plain": [
       "0.7436"
      ]
     },
     "execution_count": 16,
     "metadata": {},
     "output_type": "execute_result"
    }
   ],
   "source": [
    "y_pred_movie = predicted_movie\n",
    "y_true_movie = movie_y\n",
    "accuracy_score(y_true_movie, y_pred_movie)"
   ]
  },
  {
   "cell_type": "markdown",
   "metadata": {},
   "source": [
    "## Precision, Recall, f1-score for Game Data"
   ]
  },
  {
   "cell_type": "code",
   "execution_count": 17,
   "metadata": {},
   "outputs": [],
   "source": [
    "from sklearn.metrics import classification_report"
   ]
  },
  {
   "cell_type": "code",
   "execution_count": 18,
   "metadata": {},
   "outputs": [
    {
     "name": "stdout",
     "output_type": "stream",
     "text": [
      "              precision    recall  f1-score   support\n",
      "\n",
      "     class 0       0.77      0.71      0.74     10571\n",
      "     class 1       0.73      0.78      0.75     10571\n",
      "\n",
      "   micro avg       0.75      0.75      0.75     21142\n",
      "   macro avg       0.75      0.75      0.75     21142\n",
      "weighted avg       0.75      0.75      0.75     21142\n",
      " samples avg       0.75      0.75      0.75     21142\n",
      "\n"
     ]
    }
   ],
   "source": [
    "target_names = ['class 0', 'class 1']\n",
    "print(classification_report(game_y, predicted_game, target_names=target_names))"
   ]
  },
  {
   "cell_type": "markdown",
   "metadata": {},
   "source": [
    "## Precision, Recall, f1-score for Movie Data"
   ]
  },
  {
   "cell_type": "code",
   "execution_count": 19,
   "metadata": {},
   "outputs": [
    {
     "name": "stdout",
     "output_type": "stream",
     "text": [
      "              precision    recall  f1-score   support\n",
      "\n",
      "     class 0       0.74      0.74      0.74      4973\n",
      "     class 1       0.74      0.75      0.75      5027\n",
      "\n",
      "   micro avg       0.74      0.74      0.74     10000\n",
      "   macro avg       0.74      0.74      0.74     10000\n",
      "weighted avg       0.74      0.74      0.74     10000\n",
      " samples avg       0.74      0.74      0.74     10000\n",
      "\n"
     ]
    }
   ],
   "source": [
    "target_names = ['class 0', 'class 1']\n",
    "print(classification_report(movie_y, predicted_movie, target_names=target_names))"
   ]
  },
  {
   "cell_type": "code",
   "execution_count": null,
   "metadata": {},
   "outputs": [],
   "source": []
  }
 ],
 "metadata": {
  "kernelspec": {
   "display_name": "Python 3",
   "language": "python",
   "name": "python3"
  },
  "language_info": {
   "codemirror_mode": {
    "name": "ipython",
    "version": 3
   },
   "file_extension": ".py",
   "mimetype": "text/x-python",
   "name": "python",
   "nbconvert_exporter": "python",
   "pygments_lexer": "ipython3",
   "version": "3.6.8"
  }
 },
 "nbformat": 4,
 "nbformat_minor": 2
}
