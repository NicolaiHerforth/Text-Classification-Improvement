{
 "cells": [
  {
   "cell_type": "code",
   "execution_count": 1,
   "metadata": {},
   "outputs": [
    {
     "name": "stderr",
     "output_type": "stream",
     "text": [
      "Using TensorFlow backend.\n"
     ]
    }
   ],
   "source": [
    "import os\n",
    "import numpy as np\n",
    "import pandas as pd\n",
    "import tensorflow as tf\n",
    "from tensorflow.python.keras.preprocessing.text import Tokenizer\n",
    "from tensorflow.python.keras.preprocessing.sequence import pad_sequences\n",
    "from Preprocessing.to_embedding import WordEmbedding\n",
    "from Preprocessing.data_format import formatting\n",
    "from Preprocessing.helper_functions import import_embedding, embedding_matrix_word2vec\n",
    "from sklearn.model_selection import train_test_split\n",
    "from keras.preprocessing.text import text_to_word_sequence\n",
    "import keras"
   ]
  },
  {
   "cell_type": "code",
   "execution_count": 2,
   "metadata": {},
   "outputs": [
    {
     "name": "stdout",
     "output_type": "stream",
     "text": [
      "[name: \"/device:CPU:0\"\n",
      "device_type: \"CPU\"\n",
      "memory_limit: 268435456\n",
      "locality {\n",
      "}\n",
      "incarnation: 11513796383185588248\n",
      ", name: \"/device:GPU:0\"\n",
      "device_type: \"GPU\"\n",
      "memory_limit: 6065664820\n",
      "locality {\n",
      "  bus_id: 1\n",
      "  links {\n",
      "  }\n",
      "}\n",
      "incarnation: 16791071538593610544\n",
      "physical_device_desc: \"device: 0, name: GeForce RTX 2070, pci bus id: 0000:01:00.0, compute capability: 7.5\"\n",
      "]\n"
     ]
    }
   ],
   "source": [
    "config = tf.ConfigProto( device_count = {'GPU': 1 , 'CPU': 8} ) \n",
    "config.gpu_options.allow_growth = True\n",
    "sess = tf.Session(config=config) \n",
    "keras.backend.set_session(sess)\n",
    "\n",
    "keras.backend.tensorflow_backend._get_available_gpus()\n",
    "from tensorflow.python.client import device_lib\n",
    "print(device_lib.list_local_devices())"
   ]
  },
  {
   "cell_type": "code",
   "execution_count": 6,
   "metadata": {},
   "outputs": [
    {
     "name": "stdout",
     "output_type": "stream",
     "text": [
      "15.307844640347515\n",
      "148\n"
     ]
    }
   ],
   "source": [
    "data = pd.read_csv('phase2_baby_all.csv')\n",
    "\n",
    "data[\"sentence\"] = data[\"sentence\"].astype(str)\n",
    "data[\"sentence\"] = data[\"sentence\"].apply(text_to_word_sequence)\n",
    "\n",
    "embedding_size = 300 #number of feature weights in embeddings\n",
    "max_len = 400\n",
    "\n",
    "avg_len = sum(data[\"sentence\"].str.len())/len(data[\"sentence\"])\n",
    "max_len = data[\"sentence\"].str.len()\n",
    "print(avg_len)\n",
    "print(max(max_len))"
   ]
  },
  {
   "cell_type": "code",
   "execution_count": 5,
   "metadata": {},
   "outputs": [
    {
     "name": "stdout",
     "output_type": "stream",
     "text": [
      "Total number of words in the vocabulary:  (2979, 300)\n"
     ]
    }
   ],
   "source": [
    "embedding = WordEmbedding(num_features = embedding_size)\n",
    "WordEmbedding.fit(embedding, data[\"sentence\"])\n",
    "WordEmbedding.size(embedding)"
   ]
  },
  {
   "cell_type": "code",
   "execution_count": 6,
   "metadata": {},
   "outputs": [],
   "source": [
    "#Save word embedding to dataframe\n",
    "#train_embeddings = WordEmbedding.to_pd(embedding, X_train)\n",
    "\n",
    "#Save Save embeddings to file\n",
    "WordEmbedding.to_file(embedding)"
   ]
  },
  {
   "cell_type": "code",
   "execution_count": 7,
   "metadata": {},
   "outputs": [],
   "source": [
    "embeddings_index = import_embedding('trained_embedding_word2vec.txt')"
   ]
  },
  {
   "cell_type": "markdown",
   "metadata": {},
   "source": [
    "## 2. Vectorize text data"
   ]
  },
  {
   "cell_type": "code",
   "execution_count": 8,
   "metadata": {},
   "outputs": [],
   "source": [
    "def vectorize(data, tokenizer ,max_len):\n",
    "    sequences = tokenizer.texts_to_sequences(data)\n",
    "    padding = pad_sequences(sequences, maxlen = max_len)\n",
    "    \n",
    "    return padding"
   ]
  },
  {
   "cell_type": "markdown",
   "metadata": {},
   "source": [
    "### Check train/dev sets"
   ]
  },
  {
   "cell_type": "code",
   "execution_count": 9,
   "metadata": {
    "scrolled": false
   },
   "outputs": [
    {
     "name": "stderr",
     "output_type": "stream",
     "text": [
      "/home/dsproj016/anaconda3/envs/py36tfnew/lib/python3.6/site-packages/ipykernel_launcher.py:35: UserWarning: The `dropout` argument is no longer support in `Embedding`. You can apply a `keras.layers.SpatialDropout1D` layer right after the `Embedding` layer to get the same behavior.\n"
     ]
    },
    {
     "name": "stdout",
     "output_type": "stream",
     "text": [
      "Epoch 1/3\n",
      "13950/13950 [==============================] - 17s 1ms/step - loss: 0.5617 - acc: 0.7075\n",
      "Epoch 2/3\n",
      "13950/13950 [==============================] - 16s 1ms/step - loss: 0.4599 - acc: 0.7774\n",
      "Epoch 3/3\n",
      "13950/13950 [==============================] - 16s 1ms/step - loss: 0.3719 - acc: 0.8353\n",
      "acc: 75.27%\n"
     ]
    },
    {
     "name": "stderr",
     "output_type": "stream",
     "text": [
      "/home/dsproj016/anaconda3/envs/py36tfnew/lib/python3.6/site-packages/ipykernel_launcher.py:35: UserWarning: The `dropout` argument is no longer support in `Embedding`. You can apply a `keras.layers.SpatialDropout1D` layer right after the `Embedding` layer to get the same behavior.\n"
     ]
    },
    {
     "name": "stdout",
     "output_type": "stream",
     "text": [
      "Epoch 1/3\n",
      "13903/13903 [==============================] - 17s 1ms/step - loss: 0.5662 - acc: 0.7053\n",
      "Epoch 2/3\n",
      "13903/13903 [==============================] - 16s 1ms/step - loss: 0.4705 - acc: 0.7688\n",
      "Epoch 3/3\n",
      "13903/13903 [==============================] - 16s 1ms/step - loss: 0.3832 - acc: 0.8277\n",
      "acc: 75.94%\n",
      "Epoch 1/3\n",
      "13900/13900 [==============================] - 17s 1ms/step - loss: 0.5547 - acc: 0.7096\n",
      "Epoch 2/3\n",
      "13900/13900 [==============================] - 16s 1ms/step - loss: 0.4499 - acc: 0.7835\n",
      "Epoch 3/3\n",
      "13900/13900 [==============================] - 16s 1ms/step - loss: 0.3633 - acc: 0.8385\n",
      "acc: 76.02%\n",
      "Epoch 1/3\n",
      "13797/13797 [==============================] - 17s 1ms/step - loss: 0.5690 - acc: 0.7035\n",
      "Epoch 2/3\n",
      "13797/13797 [==============================] - 16s 1ms/step - loss: 0.4653 - acc: 0.7743\n",
      "Epoch 3/3\n",
      "13797/13797 [==============================] - 16s 1ms/step - loss: 0.3736 - acc: 0.8364\n",
      "acc: 79.30%\n",
      "Epoch 1/3\n",
      "13826/13826 [==============================] - 17s 1ms/step - loss: 0.5694 - acc: 0.7047\n",
      "Epoch 2/3\n",
      "13826/13826 [==============================] - 16s 1ms/step - loss: 0.4708 - acc: 0.7693\n",
      "Epoch 3/3\n",
      "13826/13826 [==============================] - 16s 1ms/step - loss: 0.3881 - acc: 0.8258\n",
      "acc: 77.22%\n",
      "Epoch 1/3\n",
      "13905/13905 [==============================] - 18s 1ms/step - loss: 0.5550 - acc: 0.7118\n",
      "Epoch 2/3\n",
      "13905/13905 [==============================] - 16s 1ms/step - loss: 0.4526 - acc: 0.7827\n",
      "Epoch 3/3\n",
      "13905/13905 [==============================] - 16s 1ms/step - loss: 0.3635 - acc: 0.8410\n",
      "acc: 71.68%\n",
      "Epoch 1/3\n",
      "13881/13881 [==============================] - 17s 1ms/step - loss: 0.5488 - acc: 0.7166\n",
      "Epoch 2/3\n",
      "13881/13881 [==============================] - 16s 1ms/step - loss: 0.4376 - acc: 0.7936\n",
      "Epoch 3/3\n",
      "13881/13881 [==============================] - 16s 1ms/step - loss: 0.3471 - acc: 0.8478\n",
      "acc: 67.57%\n",
      "Epoch 1/3\n",
      "13991/13991 [==============================] - 18s 1ms/step - loss: 0.5537 - acc: 0.7133\n",
      "Epoch 2/3\n",
      "13991/13991 [==============================] - 16s 1ms/step - loss: 0.4537 - acc: 0.7793\n",
      "Epoch 3/3\n",
      "13991/13991 [==============================] - 17s 1ms/step - loss: 0.3598 - acc: 0.8413\n",
      "acc: 70.21%\n",
      "0.74% (+/- 0.04%)\n"
     ]
    }
   ],
   "source": [
    "from keras.models import Sequential\n",
    "from keras.layers import Dense, Embedding, LSTM, GRU, Bidirectional, GlobalMaxPool1D, Dropout, CuDNNGRU\n",
    "from keras.layers.embeddings import Embedding\n",
    "from keras.initializers import Constant\n",
    "from sklearn.model_selection import StratifiedKFold\n",
    "\n",
    "\n",
    "cvscores = []\n",
    "for group_id in range(1,9):\n",
    "    train = data.loc[data['group_id'] != group_id]\n",
    "    X_train = train['sentence']\n",
    "    y_train = train['sentiment']\n",
    "    \n",
    "    test = data.loc[data['group_id'] == group_id]\n",
    "    X_test = test['sentence']\n",
    "    y_test = test['sentiment']\n",
    "    \n",
    "    y_train = pd.get_dummies(y_train)\n",
    "    y_test = pd.get_dummies(y_test)\n",
    "    \n",
    "    tokenizer = Tokenizer()\n",
    "    tokenizer.fit_on_texts(X_train)\n",
    "    word_index = tokenizer.word_index\n",
    "    \n",
    "    embedding_matrix, num_words = embedding_matrix_word2vec(word_index, embedding_size, embeddings_index)\n",
    "    \n",
    "    X_train = vectorize(X_train, tokenizer , max_len)\n",
    "    X_test = vectorize(X_test, tokenizer, max_len)\n",
    "\n",
    "    # Define Model\n",
    "    model = Sequential()\n",
    "    model.add(Embedding(num_words, \n",
    "                        embedding_size,\n",
    "                        input_length = max_len,\n",
    "                         dropout=0.2))\n",
    "    model.add(Bidirectional(CuDNNGRU(128, return_sequences = True)))\n",
    "    model.add(GlobalMaxPool1D())\n",
    "    model.add(Dense(20, activation=\"relu\"))\n",
    "    model.add(Dropout(0.05))\n",
    "    model.add(Dense(3, activation=\"softmax\"))\n",
    "    model.compile(loss='binary_crossentropy', optimizer = 'adam', metrics = ['accuracy'])\n",
    "    \n",
    "    model.fit(X_train, y_train, batch_size = 64, epochs = 3, verbose = 1)\n",
    "    scores = model.evaluate(X_test, y_test, verbose=0)\n",
    "    print(\"%s: %.2f%%\" % (model.metrics_names[1], scores[1]*100))\n",
    "    cvscores.append(scores[1])\n",
    "print(\"%.2f%% (+/- %.2f%%)\" % (np.mean(cvscores), np.std(cvscores)))"
   ]
  },
  {
   "cell_type": "code",
   "execution_count": 10,
   "metadata": {},
   "outputs": [
    {
     "data": {
      "text/plain": [
       "[0.7527386705640337,\n",
       " 0.7593756153677478,\n",
       " 0.7601672537378465,\n",
       " 0.7930353839486018,\n",
       " 0.7722465573306678,\n",
       " 0.716790564984441,\n",
       " 0.6756909410293265,\n",
       " 0.7021447399690506]"
      ]
     },
     "execution_count": 10,
     "metadata": {},
     "output_type": "execute_result"
    }
   ],
   "source": [
    "cvscores"
   ]
  },
  {
   "cell_type": "code",
   "execution_count": 35,
   "metadata": {},
   "outputs": [
    {
     "data": {
      "text/plain": [
       "<matplotlib.collections.LineCollection at 0x7f21038f4e48>"
      ]
     },
     "execution_count": 35,
     "metadata": {},
     "output_type": "execute_result"
    },
    {
     "data": {
      "image/png": "[encoded data removed]",
      "text/plain": [
       "<Figure size 1008x720 with 1 Axes>"
      ]
     },
     "metadata": {
      "needs_background": "light"
     },
     "output_type": "display_data"
    }
   ],
   "source": [
    "\n",
    "import matplotlib.pyplot as plt\n",
    "import numpy as np\n",
    "%matplotlib inline\n",
    "plt.rcParams['figure.figsize'] = [14, 10]\n",
    "\n",
    "\n",
    "\n",
    "x = np.arange(8)\n",
    "acc = cvscores\n",
    "\n",
    "\n",
    "\n",
    "\n",
    "\n",
    "fig, ax = plt.subplots()\n",
    "\n",
    "plt.bar(x, acc,width=0.3,align='center')\n",
    "plt.xticks(x, ('1. Split',\n",
    "               '2. Split',\n",
    "               '3. Split',\n",
    "               '4. Split',\n",
    "               '5. Split',\n",
    "               '6. Split',\n",
    "               '7. Split',\n",
    "               '8. Split'))\n",
    "plt.ylabel('Accuracy', fontsize=18)\n",
    "plt.hlines(0.74, -0.15, 7.15, colors='r', linestyles='dashed', label='')"
   ]
  },
  {
   "cell_type": "code",
   "execution_count": null,
   "metadata": {},
   "outputs": [],
   "source": []
  },
  {
   "cell_type": "code",
   "execution_count": null,
   "metadata": {},
   "outputs": [],
   "source": []
  }
 ],
 "metadata": {
  "kernelspec": {
   "display_name": "Python 3",
   "language": "python",
   "name": "python3"
  },
  "language_info": {
   "codemirror_mode": {
    "name": "ipython",
    "version": 3
   },
   "file_extension": ".py",
   "mimetype": "text/x-python",
   "name": "python",
   "nbconvert_exporter": "python",
   "pygments_lexer": "ipython3",
   "version": "3.6.8"
  }
 },
 "nbformat": 4,
 "nbformat_minor": 2
}
