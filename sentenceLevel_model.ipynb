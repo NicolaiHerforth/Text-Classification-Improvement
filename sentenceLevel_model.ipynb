{
 "cells": [
  {
   "cell_type": "code",
   "execution_count": 1,
   "metadata": {},
   "outputs": [
    {
     "name": "stderr",
     "output_type": "stream",
     "text": [
      "Using TensorFlow backend.\n"
     ]
    }
   ],
   "source": [
    "import os\n",
    "import numpy as np\n",
    "import pandas as pd\n",
    "import tensorflow as tf\n",
    "from tensorflow.python.keras.preprocessing.text import Tokenizer\n",
    "from tensorflow.python.keras.preprocessing.sequence import pad_sequences\n",
    "from Preprocessing.to_embedding import WordEmbedding\n",
    "from Preprocessing.data_format import formatting\n",
    "from Preprocessing.helper_functions import import_embedding, embedding_matrix_word2vec\n",
    "from sklearn.model_selection import train_test_split\n",
    "from keras.preprocessing.text import text_to_word_sequence"
   ]
  },
  {
   "cell_type": "code",
   "execution_count": 2,
   "metadata": {},
   "outputs": [],
   "source": [
    "data = pd.read_csv('phase2_baby_all.csv')\n",
    "\n",
    "data[\"sentence\"] = data[\"sentence\"].astype(str)\n",
    "data[\"sentence\"] = data[\"sentence\"].apply(text_to_word_sequence)\n",
    "\n",
    "embedding_size = 300 #number of feature weights in embeddings\n",
    "max_len = 400"
   ]
  },
  {
   "cell_type": "code",
   "execution_count": 3,
   "metadata": {},
   "outputs": [
    {
     "name": "stdout",
     "output_type": "stream",
     "text": [
      "Total number of words in the vocabulary:  (2979, 300)\n"
     ]
    }
   ],
   "source": [
    "embedding = WordEmbedding(num_features = embedding_size)\n",
    "WordEmbedding.fit(embedding, data[\"sentence\"])\n",
    "WordEmbedding.size(embedding)"
   ]
  },
  {
   "cell_type": "code",
   "execution_count": 4,
   "metadata": {},
   "outputs": [],
   "source": [
    "#Save word embedding to dataframe\n",
    "#train_embeddings = WordEmbedding.to_pd(embedding, X_train)\n",
    "\n",
    "#Save Save embeddings to file\n",
    "WordEmbedding.to_file(embedding)"
   ]
  },
  {
   "cell_type": "code",
   "execution_count": 5,
   "metadata": {},
   "outputs": [],
   "source": [
    "embeddings_index = import_embedding('trained_embedding_word2vec.txt')"
   ]
  },
  {
   "cell_type": "markdown",
   "metadata": {},
   "source": [
    "## 2. Vectorize text data"
   ]
  },
  {
   "cell_type": "code",
   "execution_count": 6,
   "metadata": {},
   "outputs": [],
   "source": [
    "def vectorize(data, tokenizer ,max_len):\n",
    "    sequences = tokenizer.texts_to_sequences(data)\n",
    "    padding = pad_sequences(sequences, maxlen = max_len)\n",
    "    \n",
    "    return padding"
   ]
  },
  {
   "cell_type": "markdown",
   "metadata": {},
   "source": [
    "### Check train/dev sets"
   ]
  },
  {
   "cell_type": "code",
   "execution_count": null,
   "metadata": {
    "scrolled": true
   },
   "outputs": [
    {
     "name": "stderr",
     "output_type": "stream",
     "text": [
      "/home/dsproj017/anaconda3/lib/python3.7/site-packages/ipykernel_launcher.py:35: UserWarning: The `dropout` argument is no longer support in `Embedding`. You can apply a `keras.layers.SpatialDropout1D` layer right after the `Embedding` layer to get the same behavior.\n"
     ]
    },
    {
     "name": "stdout",
     "output_type": "stream",
     "text": [
      "Epoch 1/4\n",
      "13950/13950 [==============================] - 159s 11ms/step - loss: 0.6799 - acc: 0.5539\n",
      "Epoch 2/4\n",
      "13950/13950 [==============================] - 157s 11ms/step - loss: 0.6492 - acc: 0.6502\n",
      "Epoch 3/4\n"
     ]
    }
   ],
   "source": [
    "from keras.models import Sequential\n",
    "from keras.layers import Dense, Embedding, LSTM, GRU, Bidirectional, GlobalMaxPool1D, Dropout\n",
    "from keras.layers.embeddings import Embedding\n",
    "from keras.initializers import Constant\n",
    "from sklearn.model_selection import StratifiedKFold\n",
    "\n",
    "\n",
    "cvscores = []\n",
    "for group_id in range(1,9):\n",
    "    train = data.loc[data['group_id'] != group_id]\n",
    "    X_train = train['sentence']\n",
    "    y_train = train['sentiment']\n",
    "    \n",
    "    test = data.loc[data['group_id'] == group_id]\n",
    "    X_test = test['sentence']\n",
    "    y_test = test['sentiment']\n",
    "    \n",
    "    y_train = pd.get_dummies(y_train)\n",
    "    y_test = pd.get_dummies(y_test)\n",
    "    \n",
    "    tokenizer = Tokenizer()\n",
    "    tokenizer.fit_on_texts(X_train)\n",
    "    word_index = tokenizer.word_index\n",
    "    \n",
    "    embedding_matrix, num_words = embedding_matrix_word2vec(word_index, embedding_size, embeddings_index)\n",
    "    \n",
    "    X_train = vectorize(X_train, tokenizer , max_len)\n",
    "    X_test = vectorize(X_test, tokenizer, max_len)\n",
    "\n",
    "    # Define Model\n",
    "    model = Sequential()\n",
    "    model.add(Embedding(num_words, \n",
    "                        embedding_size,\n",
    "                        input_length = max_len,\n",
    "                         dropout=0.2))\n",
    "    model.add(Bidirectional(LSTM(128, return_sequences = True)))\n",
    "    model.add(GlobalMaxPool1D())\n",
    "    model.add(Dense(20, activation=\"relu\"))\n",
    "    model.add(Dropout(0.05))\n",
    "    model.add(Dense(3, activation=\"sigmoid\"))\n",
    "    model.compile(loss='binary_crossentropy', optimizer='adam', metrics=['accuracy'])\n",
    "    \n",
    "    model.fit(X_train, y_train, batch_size = 2056, epochs = 4, verbose = 1)\n",
    "    scores = model.evaluate(X[test], Y[test], verbose=0)\n",
    "    print(\"%s: %.2f%%\" % (model.metrics_names[1], scores[1]*100))\n",
    "print(\"%.2f%% (+/- %.2f%%)\" % (numpy.mean(cvscores), numpy.std(cvscores)))"
   ]
  },
  {
   "cell_type": "code",
   "execution_count": null,
   "metadata": {},
   "outputs": [],
   "source": []
  }
 ],
 "metadata": {
  "kernelspec": {
   "display_name": "Python 3",
   "language": "python",
   "name": "python3"
  },
  "language_info": {
   "codemirror_mode": {
    "name": "ipython",
    "version": 3
   },
   "file_extension": ".py",
   "mimetype": "text/x-python",
   "name": "python",
   "nbconvert_exporter": "python",
   "pygments_lexer": "ipython3",
   "version": "3.7.0"
  }
 },
 "nbformat": 4,
 "nbformat_minor": 2
}
