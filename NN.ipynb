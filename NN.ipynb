{
 "cells": [
  {
   "cell_type": "code",
   "execution_count": 1,
   "metadata": {},
   "outputs": [
    {
     "name": "stderr",
     "output_type": "stream",
     "text": [
      "Using TensorFlow backend.\n"
     ]
    }
   ],
   "source": [
    "import os\n",
    "import numpy as np\n",
    "import pandas as pd\n",
    "import tensorflow as tf\n",
    "from tensorflow.python.keras.preprocessing.text import Tokenizer\n",
    "from tensorflow.python.keras.preprocessing.sequence import pad_sequences\n",
    "from Preprocessing.to_embedding import WordEmbedding\n",
    "from Preprocessing.data_format import formatting\n",
    "from sklearn.model_selection import train_test_split"
   ]
  },
  {
   "cell_type": "code",
   "execution_count": 2,
   "metadata": {},
   "outputs": [],
   "source": [
    "data = formatting(\"phase1_movie_reviews-train.csv\")\n",
    "data = data[:round(len(data)*0.5)]\n",
    "y = data[['polarity']]\n",
    "\n",
    "embedding_size = 150 #number of feature weights in embeddings"
   ]
  },
  {
   "cell_type": "code",
   "execution_count": 3,
   "metadata": {},
   "outputs": [
    {
     "data": {
      "text/plain": [
       "<gensim.models.word2vec.Word2Vec at 0x137e5fb70>"
      ]
     },
     "execution_count": 3,
     "metadata": {},
     "output_type": "execute_result"
    }
   ],
   "source": [
    "embedding = WordEmbedding(num_features = embedding_size)\n",
    "WordEmbedding.fit(embedding, data['reviewText'])"
   ]
  },
  {
   "cell_type": "code",
   "execution_count": 4,
   "metadata": {},
   "outputs": [
    {
     "name": "stdout",
     "output_type": "stream",
     "text": [
      "Total number of words in the vocabulary:  (41186, 150)\n"
     ]
    }
   ],
   "source": [
    "WordEmbedding.size(embedding)"
   ]
  },
  {
   "cell_type": "code",
   "execution_count": 5,
   "metadata": {},
   "outputs": [],
   "source": [
    "#Save word embedding to dataframe\n",
    "#train_embeddings = WordEmbedding.to_pd(embedding, data['reviewText'])\n",
    "\n",
    "#Save Save embeddings to file\n",
    "WordEmbedding.to_file(embedding)"
   ]
  },
  {
   "cell_type": "markdown",
   "metadata": {},
   "source": [
    "## 1. Extract training Word2vec Embeddings from file"
   ]
  },
  {
   "cell_type": "code",
   "execution_count": 6,
   "metadata": {},
   "outputs": [
    {
     "data": {
      "text/plain": [
       "<function TextIOWrapper.close()>"
      ]
     },
     "execution_count": 6,
     "metadata": {},
     "output_type": "execute_result"
    }
   ],
   "source": [
    "embeddings_index = {}\n",
    "f = open(os.path.join('', 'trained_embedding_word2vec.txt'), encoding = \"utf-8\")\n",
    "for line in f:\n",
    "    values = line.split()\n",
    "    word = values[0]\n",
    "    coefs = np.asarray(values[1:])\n",
    "    embeddings_index[word] = coefs\n",
    "f.close"
   ]
  },
  {
   "cell_type": "markdown",
   "metadata": {},
   "source": [
    "## 2. Vectorize text data"
   ]
  },
  {
   "cell_type": "code",
   "execution_count": 7,
   "metadata": {},
   "outputs": [
    {
     "name": "stdout",
     "output_type": "stream",
     "text": [
      "Found 137689 unique tokens.\n",
      "Shape of review tensor (45000, 221)\n",
      "Shape of sentiment tensor (45000,)\n"
     ]
    }
   ],
   "source": [
    "#Basic Vectorization of data\n",
    "tokenizer = Tokenizer()\n",
    "tokenizer.fit_on_texts(data['reviewText'])\n",
    "sequences = tokenizer.texts_to_sequences(data['reviewText'])\n",
    "\n",
    "#pad sequences\n",
    "word_index = tokenizer.word_index\n",
    "print('Found %s unique tokens.' % len(word_index))\n",
    "\n",
    "max_length = int(round(np.mean([len(s) for s in data['reviewText'].values])))\n",
    "review_pad = pad_sequences(sequences, maxlen = max_length)\n",
    "sentiment = data['polarity'].values\n",
    "print('Shape of review tensor', review_pad.shape)\n",
    "print('Shape of sentiment tensor', sentiment.shape)"
   ]
  },
  {
   "cell_type": "markdown",
   "metadata": {},
   "source": [
    "## 3. Create word vectors with the loaded word2vec model"
   ]
  },
  {
   "cell_type": "code",
   "execution_count": 8,
   "metadata": {},
   "outputs": [],
   "source": [
    "num_words = len(word_index) + 1\n",
    "embedding_matrix = np.zeros((num_words, embedding_size))\n",
    "\n",
    "for word, i in word_index.items():\n",
    "    if i > num_words:\n",
    "        continue\n",
    "    embedding_vector = embeddings_index.get(word)\n",
    "    if embedding_vector is not None:\n",
    "        embedding_matrix[i] = embedding_vector "
   ]
  },
  {
   "cell_type": "markdown",
   "metadata": {},
   "source": [
    "## 4. Shaping train/dev data"
   ]
  },
  {
   "cell_type": "code",
   "execution_count": 9,
   "metadata": {},
   "outputs": [
    {
     "name": "stdout",
     "output_type": "stream",
     "text": [
      "Shape of X_train: (36000, 221)\n",
      "Shape of y_train: (36000, 2)\n",
      "Shape of X_test: (9000, 221)\n",
      "Shape of X_test: (9000, 221)\n"
     ]
    }
   ],
   "source": [
    "indices = np.arange(review_pad.shape[0])\n",
    "np.random.shuffle(indices)\n",
    "review_pad = review_pad[indices]\n",
    "sentiment = sentiment[indices]\n",
    "num_val_samples = int(0.2 * review_pad.shape[0])\n",
    "\n",
    "sentiment = pd.get_dummies(sentiment)\n",
    "\n",
    "X_train = review_pad[:-num_val_samples]\n",
    "y_train = sentiment[:-num_val_samples]\n",
    "X_test = review_pad[-num_val_samples:]\n",
    "y_test = sentiment[-num_val_samples:]\n",
    "\n",
    "print('Shape of X_train:', X_train.shape)\n",
    "print('Shape of y_train:', y_train.shape)\n",
    "print('Shape of X_test:', X_test.shape)\n",
    "print('Shape of X_test:', X_test.shape)"
   ]
  },
  {
   "cell_type": "code",
   "execution_count": 6,
   "metadata": {},
   "outputs": [],
   "source": [
    "data = data[['year']]\n",
    "data = pd.concat([data, train_embeddings], axis=1, sort=False)\n",
    "\n",
    "y = pd.get_dummies(y)\n",
    "\n",
    "X_train, X_test, y_train, y_test = train_test_split(data, y, test_size = 0.20, random_state = 42)"
   ]
  },
  {
   "cell_type": "code",
   "execution_count": 10,
   "metadata": {},
   "outputs": [
    {
     "data": {
      "text/plain": [
       "(36000, 221)"
      ]
     },
     "execution_count": 10,
     "metadata": {},
     "output_type": "execute_result"
    }
   ],
   "source": [
    "X_train.shape"
   ]
  },
  {
   "cell_type": "markdown",
   "metadata": {},
   "source": [
    "## 5. Define model"
   ]
  },
  {
   "cell_type": "code",
   "execution_count": 86,
   "metadata": {},
   "outputs": [],
   "source": [
    "from keras.models import Sequential\n",
    "from keras.layers import Dense, Embedding, LSTM, GRU\n",
    "from keras.layers.embeddings import Embedding\n",
    "from keras.initializers import Constant\n",
    "\n",
    "# Define Model\n",
    "model = Sequential()\n",
    "embedding_layer = Embedding(num_words,\n",
    "                            embedding_size,\n",
    "                            embeddings_initializer = Constant(embedding_matrix),\n",
    "                            input_length = max_length,\n",
    "                            trainable = False)\n",
    "\n",
    "model.add(embedding_layer)\n",
    "model.add(GRU(units = 32, dropout = 0.2 , recurrent_dropout = 0.2))\n",
    "model.add(Dense(2, activation = 'sigmoid'))\n",
    "\n",
    "model.compile(loss = 'binary_crossentropy', optimizer = 'adam', metrics = ['accuracy'])"
   ]
  },
  {
   "cell_type": "markdown",
   "metadata": {},
   "source": [
    "## 5. Define model plus version"
   ]
  },
  {
   "cell_type": "code",
   "execution_count": null,
   "metadata": {},
   "outputs": [],
   "source": [
    "from keras.models import Sequential\n",
    "from keras.layers import Dense, Embedding, LSTM, GRU\n",
    "from keras.layers.embeddings import Embedding\n",
    "from keras.initializers import Constant\n",
    "\n",
    "# Define Model\n",
    "\n",
    "embedding_review = Embedding(num_words,\n",
    "                            embedding_size,\n",
    "                            embeddings_initializer = Constant(embedding_matrix),\n",
    "                            input_length = max_length,\n",
    "                            trainable = False)\n",
    "\n",
    "model.add(embedding_layer)\n",
    "model.add(GRU(units = 32, dropout = 0.2 , recurrent_dropout = 0.2))\n",
    "model.add(Dense(2, activation = 'sigmoid'))\n",
    "\n",
    "model.compile(loss = 'binary_crossentropy', optimizer = 'adam', metrics = ['accuracy'])"
   ]
  },
  {
   "cell_type": "code",
   "execution_count": 91,
   "metadata": {},
   "outputs": [
    {
     "name": "stdout",
     "output_type": "stream",
     "text": [
      "Train on 36000 samples, validate on 9000 samples\n",
      "Epoch 1/40\n",
      "36000/36000 [==============================] - 27s 751us/step - loss: 0.2285 - acc: 0.9093 - val_loss: 0.2349 - val_acc: 0.9141\n",
      "Epoch 2/40\n",
      "36000/36000 [==============================] - 27s 743us/step - loss: 0.2278 - acc: 0.9111 - val_loss: 0.2319 - val_acc: 0.9149\n",
      "Epoch 3/40\n",
      "36000/36000 [==============================] - 27s 743us/step - loss: 0.2247 - acc: 0.9119 - val_loss: 0.2343 - val_acc: 0.9154\n",
      "Epoch 4/40\n",
      "36000/36000 [==============================] - 26s 736us/step - loss: 0.2250 - acc: 0.9111 - val_loss: 0.2250 - val_acc: 0.9172\n",
      "Epoch 5/40\n",
      "36000/36000 [==============================] - 27s 740us/step - loss: 0.2189 - acc: 0.9135 - val_loss: 0.2246 - val_acc: 0.9177\n",
      "Epoch 6/40\n",
      "36000/36000 [==============================] - 26s 736us/step - loss: 0.2193 - acc: 0.9135 - val_loss: 0.2227 - val_acc: 0.9181\n",
      "Epoch 7/40\n",
      "36000/36000 [==============================] - 27s 736us/step - loss: 0.2156 - acc: 0.9154 - val_loss: 0.2252 - val_acc: 0.9173\n",
      "Epoch 8/40\n",
      "36000/36000 [==============================] - 26s 735us/step - loss: 0.2157 - acc: 0.9162 - val_loss: 0.2241 - val_acc: 0.9185\n",
      "Epoch 9/40\n",
      "36000/36000 [==============================] - 26s 734us/step - loss: 0.2140 - acc: 0.9161 - val_loss: 0.2190 - val_acc: 0.9191\n",
      "Epoch 10/40\n",
      "36000/36000 [==============================] - 27s 737us/step - loss: 0.2143 - acc: 0.9168 - val_loss: 0.2214 - val_acc: 0.9184\n",
      "Epoch 11/40\n",
      "36000/36000 [==============================] - 27s 747us/step - loss: 0.2125 - acc: 0.9167 - val_loss: 0.2183 - val_acc: 0.9193\n",
      "Epoch 12/40\n",
      "36000/36000 [==============================] - 27s 736us/step - loss: 0.2108 - acc: 0.9161 - val_loss: 0.2149 - val_acc: 0.9188\n",
      "Epoch 13/40\n",
      "36000/36000 [==============================] - 27s 744us/step - loss: 0.2094 - acc: 0.9182 - val_loss: 0.2166 - val_acc: 0.9194\n",
      "Epoch 14/40\n",
      "36000/36000 [==============================] - 27s 743us/step - loss: 0.2071 - acc: 0.9194 - val_loss: 0.2113 - val_acc: 0.9207\n",
      "Epoch 15/40\n",
      "36000/36000 [==============================] - 27s 740us/step - loss: 0.2062 - acc: 0.9192 - val_loss: 0.2180 - val_acc: 0.9202\n",
      "Epoch 16/40\n",
      "36000/36000 [==============================] - 27s 739us/step - loss: 0.2041 - acc: 0.9205 - val_loss: 0.2130 - val_acc: 0.9210\n",
      "Epoch 17/40\n",
      "36000/36000 [==============================] - 27s 738us/step - loss: 0.2011 - acc: 0.9209 - val_loss: 0.2137 - val_acc: 0.9212\n",
      "Epoch 18/40\n",
      "36000/36000 [==============================] - 27s 737us/step - loss: 0.2037 - acc: 0.9209 - val_loss: 0.2220 - val_acc: 0.9184\n",
      "Epoch 19/40\n",
      "36000/36000 [==============================] - 27s 737us/step - loss: 0.2001 - acc: 0.9228 - val_loss: 0.2134 - val_acc: 0.9209\n",
      "Epoch 20/40\n",
      "36000/36000 [==============================] - 27s 737us/step - loss: 0.2014 - acc: 0.9215 - val_loss: 0.2212 - val_acc: 0.9189\n",
      "Epoch 21/40\n",
      "36000/36000 [==============================] - 26s 735us/step - loss: 0.2002 - acc: 0.9214 - val_loss: 0.2112 - val_acc: 0.9217\n",
      "Epoch 22/40\n",
      "36000/36000 [==============================] - 27s 736us/step - loss: 0.1986 - acc: 0.9216 - val_loss: 0.2177 - val_acc: 0.9202\n",
      "Epoch 23/40\n",
      "36000/36000 [==============================] - 26s 732us/step - loss: 0.1993 - acc: 0.9226 - val_loss: 0.2083 - val_acc: 0.9225\n",
      "Epoch 24/40\n",
      "36000/36000 [==============================] - 27s 738us/step - loss: 0.1984 - acc: 0.9233 - val_loss: 0.2119 - val_acc: 0.9218\n",
      "Epoch 25/40\n",
      "36000/36000 [==============================] - 26s 732us/step - loss: 0.1948 - acc: 0.9246 - val_loss: 0.2125 - val_acc: 0.9216\n",
      "Epoch 26/40\n",
      "36000/36000 [==============================] - 26s 729us/step - loss: 0.1948 - acc: 0.9239 - val_loss: 0.2099 - val_acc: 0.9217\n",
      "Epoch 27/40\n",
      "36000/36000 [==============================] - 26s 732us/step - loss: 0.1951 - acc: 0.9241 - val_loss: 0.2099 - val_acc: 0.9217\n",
      "Epoch 28/40\n",
      "36000/36000 [==============================] - 26s 730us/step - loss: 0.1928 - acc: 0.9245 - val_loss: 0.2097 - val_acc: 0.9215\n",
      "Epoch 29/40\n",
      "36000/36000 [==============================] - 26s 731us/step - loss: 0.1930 - acc: 0.9240 - val_loss: 0.2094 - val_acc: 0.9221\n",
      "Epoch 30/40\n",
      "36000/36000 [==============================] - 27s 737us/step - loss: 0.1921 - acc: 0.9241 - val_loss: 0.2144 - val_acc: 0.9198\n",
      "Epoch 31/40\n",
      "36000/36000 [==============================] - 26s 730us/step - loss: 0.1930 - acc: 0.9246 - val_loss: 0.2124 - val_acc: 0.9206\n",
      "Epoch 32/40\n",
      "36000/36000 [==============================] - 26s 728us/step - loss: 0.1895 - acc: 0.9263 - val_loss: 0.2123 - val_acc: 0.9206\n",
      "Epoch 33/40\n",
      "36000/36000 [==============================] - 26s 730us/step - loss: 0.1913 - acc: 0.9265 - val_loss: 0.2103 - val_acc: 0.9212\n",
      "Epoch 34/40\n",
      "36000/36000 [==============================] - 26s 729us/step - loss: 0.1876 - acc: 0.9274 - val_loss: 0.2104 - val_acc: 0.9218\n",
      "Epoch 35/40\n",
      "36000/36000 [==============================] - 26s 733us/step - loss: 0.1879 - acc: 0.9270 - val_loss: 0.2120 - val_acc: 0.9201\n",
      "Epoch 36/40\n",
      "36000/36000 [==============================] - 26s 729us/step - loss: 0.1867 - acc: 0.9274 - val_loss: 0.2045 - val_acc: 0.9226\n",
      "Epoch 37/40\n",
      "36000/36000 [==============================] - 27s 737us/step - loss: 0.1887 - acc: 0.9263 - val_loss: 0.2076 - val_acc: 0.9206\n",
      "Epoch 38/40\n",
      "36000/36000 [==============================] - 26s 732us/step - loss: 0.1871 - acc: 0.9275 - val_loss: 0.2055 - val_acc: 0.9227\n",
      "Epoch 39/40\n",
      "36000/36000 [==============================] - 26s 731us/step - loss: 0.1871 - acc: 0.9262 - val_loss: 0.2067 - val_acc: 0.9228\n",
      "Epoch 40/40\n",
      "36000/36000 [==============================] - 26s 733us/step - loss: 0.1853 - acc: 0.9283 - val_loss: 0.2028 - val_acc: 0.9236\n"
     ]
    }
   ],
   "source": [
    "history = model.fit(X_train, y_train, batch_size = 2056, epochs = 40, validation_data = (X_test, y_test), verbose = 1)"
   ]
  },
  {
   "cell_type": "code",
   "execution_count": 92,
   "metadata": {},
   "outputs": [],
   "source": [
    "import matplotlib.pyplot as plt\n",
    "plt.style.use('ggplot')\n",
    "\n",
    "def plot_history(history):\n",
    "    acc = history.history['acc']\n",
    "    val_acc = history.history['val_acc']\n",
    "    loss = history.history['loss']\n",
    "    val_loss = history.history['val_loss']\n",
    "    x = range(1, len(acc) + 1)\n",
    "\n",
    "    plt.figure(figsize=(12, 5))\n",
    "    plt.subplot(1, 3, 1)\n",
    "    plt.plot(x, acc, 'b', label='Training acc')\n",
    "    plt.plot(x, val_acc, 'r', label='Validation acc')\n",
    "    plt.title('Training and validation accuracy')\n",
    "    plt.legend()\n",
    "    plt.subplot(1, 3, 2)\n",
    "    plt.plot(x, loss, 'b', label='Training loss')\n",
    "    plt.plot(x, val_loss, 'r', label='Validation loss')\n",
    "    plt.title('Training and validation loss')\n",
    "    plt.legend()\n",
    "    plt.show()"
   ]
  },
  {
   "cell_type": "code",
   "execution_count": 93,
   "metadata": {},
   "outputs": [
    {
     "name": "stdout",
     "output_type": "stream",
     "text": [
      "Development Accuracy:  0.9444\n",
      "Testing Accuracy:  0.9236\n"
     ]
    },
    {
     "data": {
      "image/png": "[encoded data removed]",
      "text/plain": [
       "<Figure size 864x360 with 2 Axes>"
      ]
     },
     "metadata": {},
     "output_type": "display_data"
    }
   ],
   "source": [
    "loss, accuracy = model.evaluate(X_train, y_train, verbose=False)\n",
    "print(\"Development Accuracy:  {:.4f}\".format(accuracy))\n",
    "loss, accuracy = model.evaluate(X_test, y_test, verbose=False)\n",
    "print(\"Testing Accuracy:  {:.4f}\".format(accuracy))\n",
    "plot_history(history)"
   ]
  },
  {
   "cell_type": "code",
   "execution_count": null,
   "metadata": {},
   "outputs": [],
   "source": []
  }
 ],
 "metadata": {
  "kernelspec": {
   "display_name": "Python 3",
   "language": "python",
   "name": "python3"
  },
  "language_info": {
   "codemirror_mode": {
    "name": "ipython",
    "version": 3
   },
   "file_extension": ".py",
   "mimetype": "text/x-python",
   "name": "python",
   "nbconvert_exporter": "python",
   "pygments_lexer": "ipython3",
   "version": "3.7.0"
  }
 },
 "nbformat": 4,
 "nbformat_minor": 2
}
