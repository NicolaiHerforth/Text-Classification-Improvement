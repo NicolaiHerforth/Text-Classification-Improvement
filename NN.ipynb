{
 "cells": [
  {
   "cell_type": "code",
   "execution_count": 1,
   "metadata": {},
   "outputs": [
    {
     "name": "stderr",
     "output_type": "stream",
     "text": [
      "Using TensorFlow backend.\n"
     ]
    }
   ],
   "source": [
    "import os\n",
    "import numpy as np\n",
    "import pandas as pd\n",
    "import tensorflow as tf\n",
    "from tensorflow.python.keras.preprocessing.text import Tokenizer\n",
    "from tensorflow.python.keras.preprocessing.sequence import pad_sequences\n",
    "from Preprocessing.to_embedding import WordEmbedding\n",
    "from Preprocessing.data_format import formatting\n",
    "from sklearn.model_selection import train_test_split"
   ]
  },
  {
   "cell_type": "code",
   "execution_count": 2,
   "metadata": {},
   "outputs": [],
   "source": [
    "data = formatting(\"phase1_movie_reviews-train.csv\")\n",
    "#data = data[:round(len(data)*0.5)]\n",
    "\n",
    "y = pd.get_dummies(data['polarity'])\n",
    "X_train, X_dev, y_train, y_dev = train_test_split(data['summary'], y, test_size = 0.10, random_state=42)\n",
    "\n",
    "embedding_size = 300 #number of feature weights in embeddings\n",
    "max_len = 400"
   ]
  },
  {
   "cell_type": "code",
   "execution_count": 3,
   "metadata": {},
   "outputs": [
    {
     "name": "stdout",
     "output_type": "stream",
     "text": [
      "Total number of words in the vocabulary:  (6220, 300)\n"
     ]
    }
   ],
   "source": [
    "embedding = WordEmbedding(num_features = embedding_size)\n",
    "\n",
    "WordEmbedding.fit(embedding, X_train)\n",
    "WordEmbedding.size(embedding)"
   ]
  },
  {
   "cell_type": "code",
   "execution_count": 4,
   "metadata": {},
   "outputs": [],
   "source": [
    "#Save word embedding to dataframe\n",
    "#train_embeddings = WordEmbedding.to_pd(embedding, X_train)\n",
    "\n",
    "#Save Save embeddings to file\n",
    "WordEmbedding.to_file(embedding)"
   ]
  },
  {
   "cell_type": "code",
   "execution_count": 5,
   "metadata": {},
   "outputs": [],
   "source": [
    "def import_embedding(file_name):\n",
    "    embeddings_index = {}\n",
    "    f = open(os.path.join('', file_name), encoding = \"utf-8\")\n",
    "    for line in f:\n",
    "        values = line.split()\n",
    "        word = values[0]\n",
    "        coefs = np.asarray(values[1:])\n",
    "        embeddings_index[word] = coefs\n",
    "    f.close\n",
    "    \n",
    "    return embeddings_index\n",
    "\n",
    "embeddings_index = import_embedding('trained_embedding_word2vec.txt')"
   ]
  },
  {
   "cell_type": "markdown",
   "metadata": {},
   "source": [
    "## 2. Vectorize text data"
   ]
  },
  {
   "cell_type": "code",
   "execution_count": 6,
   "metadata": {},
   "outputs": [
    {
     "name": "stdout",
     "output_type": "stream",
     "text": [
      "Found 26290 unique tokens.\n",
      "Shape of train tensor (81000, 400)\n",
      "Shape of dev tensor (9000, 400)\n"
     ]
    }
   ],
   "source": [
    "#Basic Vectorization of data\n",
    "#Review data\n",
    "tokenizer = Tokenizer()\n",
    "tokenizer.fit_on_texts(X_train)\n",
    "word_index = tokenizer.word_index\n",
    "\n",
    "def vectorize(data, tokenizer ,max_len):\n",
    "    sequences = tokenizer.texts_to_sequences(data)\n",
    "    padding = pad_sequences(sequences, maxlen = max_len)\n",
    "    \n",
    "    return padding\n",
    "\n",
    "X_train = vectorize(X_train, tokenizer , max_len)\n",
    "X_dev = vectorize(X_dev, tokenizer, max_len)\n",
    "\n",
    "print('Found %s unique tokens.' % len(word_index))\n",
    "print('Shape of train tensor', X_train.shape)\n",
    "print('Shape of dev tensor', X_dev.shape)"
   ]
  },
  {
   "cell_type": "markdown",
   "metadata": {},
   "source": [
    "## 3. Create word vectors with the loaded word2vec model"
   ]
  },
  {
   "cell_type": "code",
   "execution_count": 7,
   "metadata": {},
   "outputs": [],
   "source": [
    "def embedding_matrix_word2vec(word_index, embedding_size, embeddings_index):\n",
    "    num_words = len(word_index) + 1\n",
    "    embedding_matrix = np.zeros((num_words, embedding_size))\n",
    "    \n",
    "    for word, i in word_index.items():\n",
    "        if i > num_words:\n",
    "            continue\n",
    "        embedding_vector = embeddings_index.get(word)\n",
    "        if embedding_vector is not None:\n",
    "            embedding_matrix[i] = embedding_vector\n",
    "    return embedding_matrix, num_words\n",
    "            \n",
    "embedding_matrix, num_words = embedding_matrix_word2vec(word_index, embedding_size, embeddings_index)"
   ]
  },
  {
   "cell_type": "markdown",
   "metadata": {},
   "source": [
    "### Check train/dev sets"
   ]
  },
  {
   "cell_type": "code",
   "execution_count": 8,
   "metadata": {},
   "outputs": [
    {
     "name": "stdout",
     "output_type": "stream",
     "text": [
      "Shape of X_train: (81000, 400)\n",
      "Shape of y_train: (81000, 2)\n",
      "Shape of X_test: (9000, 400)\n",
      "Shape of y_test: (9000, 2)\n"
     ]
    }
   ],
   "source": [
    "print('Shape of X_train:', X_train.shape)\n",
    "print('Shape of y_train:', y_train.shape)\n",
    "print('Shape of X_test:', X_dev.shape)\n",
    "print('Shape of y_test:', y_dev.shape)"
   ]
  },
  {
   "cell_type": "markdown",
   "metadata": {},
   "source": [
    "## 5. Define model"
   ]
  },
  {
   "cell_type": "code",
   "execution_count": 9,
   "metadata": {},
   "outputs": [
    {
     "name": "stdout",
     "output_type": "stream",
     "text": [
      "WARNING:tensorflow:From /home/dsproj017/anaconda3/lib/python3.7/site-packages/tensorflow/python/framework/op_def_library.py:263: colocate_with (from tensorflow.python.framework.ops) is deprecated and will be removed in a future version.\n",
      "Instructions for updating:\n",
      "Colocations handled automatically by placer.\n"
     ]
    },
    {
     "name": "stderr",
     "output_type": "stream",
     "text": [
      "/home/dsproj017/anaconda3/lib/python3.7/site-packages/ipykernel_launcher.py:11: UserWarning: The `dropout` argument is no longer support in `Embedding`. You can apply a `keras.layers.SpatialDropout1D` layer right after the `Embedding` layer to get the same behavior.\n",
      "  # This is added back by InteractiveShellApp.init_path()\n"
     ]
    },
    {
     "name": "stdout",
     "output_type": "stream",
     "text": [
      "WARNING:tensorflow:From /home/dsproj017/anaconda3/lib/python3.7/site-packages/keras/backend/tensorflow_backend.py:3445: calling dropout (from tensorflow.python.ops.nn_ops) with keep_prob is deprecated and will be removed in a future version.\n",
      "Instructions for updating:\n",
      "Please use `rate` instead of `keep_prob`. Rate should be set to `rate = 1 - keep_prob`.\n"
     ]
    }
   ],
   "source": [
    "from keras.models import Sequential\n",
    "from keras.layers import Dense, Embedding, LSTM, GRU, Bidirectional, GlobalMaxPool1D, Dropout\n",
    "from keras.layers.embeddings import Embedding\n",
    "from keras.initializers import Constant\n",
    "\n",
    "# Define Model\n",
    "model = Sequential()\n",
    "model.add(Embedding(num_words, \n",
    "                    embedding_size,\n",
    "                    input_length = max_len,\n",
    "                     dropout=0.2))\n",
    "model.add(Bidirectional(LSTM(128, return_sequences = True)))\n",
    "model.add(GlobalMaxPool1D())\n",
    "model.add(Dense(20, activation=\"relu\"))\n",
    "model.add(Dropout(0.05))\n",
    "model.add(Dense(2, activation=\"sigmoid\"))\n",
    "model.compile(loss='binary_crossentropy', optimizer='adam', metrics=['accuracy'])"
   ]
  },
  {
   "cell_type": "code",
   "execution_count": 13,
   "metadata": {},
   "outputs": [
    {
     "name": "stdout",
     "output_type": "stream",
     "text": [
      "Train on 81000 samples, validate on 9000 samples\n",
      "Epoch 1/4\n",
      "81000/81000 [==============================] - 1158s 14ms/step - loss: 0.4249 - acc: 0.7984 - val_loss: 0.3902 - val_acc: 0.8168\n",
      "Epoch 2/4\n",
      "81000/81000 [==============================] - 1159s 14ms/step - loss: 0.3059 - acc: 0.8681 - val_loss: 0.4132 - val_acc: 0.8149\n",
      "Epoch 3/4\n",
      "81000/81000 [==============================] - 1158s 14ms/step - loss: 0.2320 - acc: 0.9037 - val_loss: 0.4451 - val_acc: 0.8143\n",
      "Epoch 4/4\n",
      "81000/81000 [==============================] - 1159s 14ms/step - loss: 0.1792 - acc: 0.9282 - val_loss: 0.5196 - val_acc: 0.8062\n"
     ]
    }
   ],
   "source": [
    "history = model.fit(X_train, y_train, batch_size = 64, epochs = 4, validation_data = (X_dev, y_dev), verbose = 1)"
   ]
  },
  {
   "cell_type": "code",
   "execution_count": 14,
   "metadata": {},
   "outputs": [],
   "source": [
    "import matplotlib.pyplot as plt\n",
    "plt.style.use('ggplot')\n",
    "\n",
    "def plot_history(history):\n",
    "    acc = history.history['acc']\n",
    "    val_acc = history.history['val_acc']\n",
    "    loss = history.history['loss']\n",
    "    val_loss = history.history['val_loss']\n",
    "    x = range(1, len(acc) + 1)\n",
    "\n",
    "    plt.figure(figsize=(12, 5))\n",
    "    plt.subplot(1, 3, 1)\n",
    "    plt.plot(x, acc, 'b', label='Training acc')\n",
    "    plt.plot(x, val_acc, 'r', label='Validation acc')\n",
    "    plt.title('Training and validation accuracy')\n",
    "    plt.legend()\n",
    "    plt.subplot(1, 3, 2)\n",
    "    plt.plot(x, loss, 'b', label='Training loss')\n",
    "    plt.plot(x, val_loss, 'r', label='Validation loss')\n",
    "    plt.title('Training and validation loss')\n",
    "    plt.legend()\n",
    "    plt.show()"
   ]
  },
  {
   "cell_type": "code",
   "execution_count": null,
   "metadata": {},
   "outputs": [],
   "source": [
    "loss, accuracy = model.evaluate(X_train, y_train, verbose=False)\n",
    "print(\"Development Accuracy:  {:.4f}\".format(accuracy))\n",
    "loss, accuracy = model.evaluate(X_test, y_test, verbose=False)\n",
    "print(\"Testing Accuracy:  {:.4f}\".format(accuracy))\n",
    "plot_history(history)"
   ]
  },
  {
   "cell_type": "code",
   "execution_count": null,
   "metadata": {},
   "outputs": [],
   "source": []
  }
 ],
 "metadata": {
  "kernelspec": {
   "display_name": "Python 3",
   "language": "python",
   "name": "python3"
  },
  "language_info": {
   "codemirror_mode": {
    "name": "ipython",
    "version": 3
   },
   "file_extension": ".py",
   "mimetype": "text/x-python",
   "name": "python",
   "nbconvert_exporter": "python",
   "pygments_lexer": "ipython3",
   "version": "3.7.1"
  }
 },
 "nbformat": 4,
 "nbformat_minor": 2
}
