{
 "cells": [
  {
   "cell_type": "code",
   "execution_count": 7,
   "metadata": {},
   "outputs": [],
   "source": [
    "import pandas as pd\n",
    "import tensorflow as tf\n",
    "from Preprocessing.to_embedding import WordEmbedding\n",
    "from Preprocessing.data_format import formatting\n",
    "from sklearn.model_selection import train_test_split"
   ]
  },
  {
   "cell_type": "code",
   "execution_count": 8,
   "metadata": {},
   "outputs": [],
   "source": [
    "data = formatting(\"phase1_movie_reviews-train.csv\")\n",
    "y = data[['polarity']]"
   ]
  },
  {
   "cell_type": "code",
   "execution_count": 9,
   "metadata": {},
   "outputs": [
    {
     "data": {
      "text/plain": [
       "<gensim.models.word2vec.Word2Vec at 0x1b6223d30>"
      ]
     },
     "execution_count": 9,
     "metadata": {},
     "output_type": "execute_result"
    }
   ],
   "source": [
    "embedding = WordEmbedding(num_features = 300)\n",
    "WordEmbedding.fit(embedding, data['reviewText'])"
   ]
  },
  {
   "cell_type": "code",
   "execution_count": 10,
   "metadata": {},
   "outputs": [
    {
     "name": "stdout",
     "output_type": "stream",
     "text": [
      "Total number of words in the vocabulary:  (54844, 300)\n"
     ]
    }
   ],
   "source": [
    "WordEmbedding.size(embedding)"
   ]
  },
  {
   "cell_type": "code",
   "execution_count": 11,
   "metadata": {},
   "outputs": [],
   "source": [
    "train_embeddings = WordEmbedding.to_pd(embedding, data['reviewText'])"
   ]
  },
  {
   "cell_type": "code",
   "execution_count": 12,
   "metadata": {
    "scrolled": true
   },
   "outputs": [
    {
     "data": {
      "text/html": [
       "<div>\n",
       "<style scoped>\n",
       "    .dataframe tbody tr th:only-of-type {\n",
       "        vertical-align: middle;\n",
       "    }\n",
       "\n",
       "    .dataframe tbody tr th {\n",
       "        vertical-align: top;\n",
       "    }\n",
       "\n",
       "    .dataframe thead th {\n",
       "        text-align: right;\n",
       "    }\n",
       "</style>\n",
       "<table border=\"1\" class=\"dataframe\">\n",
       "  <thead>\n",
       "    <tr style=\"text-align: right;\">\n",
       "      <th></th>\n",
       "      <th>0</th>\n",
       "      <th>1</th>\n",
       "      <th>2</th>\n",
       "      <th>3</th>\n",
       "      <th>4</th>\n",
       "      <th>5</th>\n",
       "      <th>6</th>\n",
       "      <th>7</th>\n",
       "      <th>8</th>\n",
       "      <th>9</th>\n",
       "      <th>...</th>\n",
       "      <th>290</th>\n",
       "      <th>291</th>\n",
       "      <th>292</th>\n",
       "      <th>293</th>\n",
       "      <th>294</th>\n",
       "      <th>295</th>\n",
       "      <th>296</th>\n",
       "      <th>297</th>\n",
       "      <th>298</th>\n",
       "      <th>299</th>\n",
       "    </tr>\n",
       "  </thead>\n",
       "  <tbody>\n",
       "    <tr>\n",
       "      <th>0</th>\n",
       "      <td>-0.271564</td>\n",
       "      <td>0.037601</td>\n",
       "      <td>0.554395</td>\n",
       "      <td>0.194177</td>\n",
       "      <td>-0.295273</td>\n",
       "      <td>0.413215</td>\n",
       "      <td>-0.033724</td>\n",
       "      <td>0.302937</td>\n",
       "      <td>0.749933</td>\n",
       "      <td>0.580825</td>\n",
       "      <td>...</td>\n",
       "      <td>-0.182048</td>\n",
       "      <td>0.331851</td>\n",
       "      <td>0.119295</td>\n",
       "      <td>-0.271650</td>\n",
       "      <td>0.120633</td>\n",
       "      <td>0.254109</td>\n",
       "      <td>-0.141262</td>\n",
       "      <td>-0.199510</td>\n",
       "      <td>0.211353</td>\n",
       "      <td>-0.284701</td>\n",
       "    </tr>\n",
       "    <tr>\n",
       "      <th>1</th>\n",
       "      <td>-0.393395</td>\n",
       "      <td>-0.062188</td>\n",
       "      <td>0.635279</td>\n",
       "      <td>0.062630</td>\n",
       "      <td>-0.144905</td>\n",
       "      <td>0.324336</td>\n",
       "      <td>-0.142172</td>\n",
       "      <td>0.261326</td>\n",
       "      <td>0.665856</td>\n",
       "      <td>0.308496</td>\n",
       "      <td>...</td>\n",
       "      <td>-0.190262</td>\n",
       "      <td>0.190294</td>\n",
       "      <td>-0.000945</td>\n",
       "      <td>0.049691</td>\n",
       "      <td>0.039310</td>\n",
       "      <td>0.229791</td>\n",
       "      <td>-0.263687</td>\n",
       "      <td>-0.117109</td>\n",
       "      <td>0.007234</td>\n",
       "      <td>-0.407619</td>\n",
       "    </tr>\n",
       "    <tr>\n",
       "      <th>2</th>\n",
       "      <td>-0.229396</td>\n",
       "      <td>-0.098869</td>\n",
       "      <td>0.327320</td>\n",
       "      <td>0.247322</td>\n",
       "      <td>0.011974</td>\n",
       "      <td>0.259872</td>\n",
       "      <td>0.081208</td>\n",
       "      <td>0.320640</td>\n",
       "      <td>0.435121</td>\n",
       "      <td>0.051939</td>\n",
       "      <td>...</td>\n",
       "      <td>-0.027018</td>\n",
       "      <td>0.114487</td>\n",
       "      <td>-0.116905</td>\n",
       "      <td>0.148160</td>\n",
       "      <td>0.144647</td>\n",
       "      <td>-0.113864</td>\n",
       "      <td>-0.233946</td>\n",
       "      <td>-0.004275</td>\n",
       "      <td>-0.230247</td>\n",
       "      <td>-0.201205</td>\n",
       "    </tr>\n",
       "    <tr>\n",
       "      <th>3</th>\n",
       "      <td>-0.211428</td>\n",
       "      <td>-0.095357</td>\n",
       "      <td>0.239634</td>\n",
       "      <td>0.099847</td>\n",
       "      <td>-0.106311</td>\n",
       "      <td>0.255665</td>\n",
       "      <td>-0.000272</td>\n",
       "      <td>0.178190</td>\n",
       "      <td>0.364575</td>\n",
       "      <td>0.101936</td>\n",
       "      <td>...</td>\n",
       "      <td>0.033259</td>\n",
       "      <td>0.137756</td>\n",
       "      <td>-0.125509</td>\n",
       "      <td>-0.079346</td>\n",
       "      <td>0.033270</td>\n",
       "      <td>0.086103</td>\n",
       "      <td>-0.125738</td>\n",
       "      <td>-0.139738</td>\n",
       "      <td>-0.103189</td>\n",
       "      <td>-0.318689</td>\n",
       "    </tr>\n",
       "    <tr>\n",
       "      <th>4</th>\n",
       "      <td>-0.578025</td>\n",
       "      <td>0.039751</td>\n",
       "      <td>0.582209</td>\n",
       "      <td>0.288721</td>\n",
       "      <td>-0.404956</td>\n",
       "      <td>0.231579</td>\n",
       "      <td>0.051184</td>\n",
       "      <td>0.170111</td>\n",
       "      <td>0.673649</td>\n",
       "      <td>0.285740</td>\n",
       "      <td>...</td>\n",
       "      <td>-0.353686</td>\n",
       "      <td>0.410463</td>\n",
       "      <td>0.154479</td>\n",
       "      <td>-0.248465</td>\n",
       "      <td>0.176782</td>\n",
       "      <td>0.508400</td>\n",
       "      <td>-0.220848</td>\n",
       "      <td>-0.341107</td>\n",
       "      <td>0.029526</td>\n",
       "      <td>-0.497928</td>\n",
       "    </tr>\n",
       "  </tbody>\n",
       "</table>\n",
       "<p>5 rows × 300 columns</p>\n",
       "</div>"
      ],
      "text/plain": [
       "        0         1         2         3         4         5         6    \\\n",
       "0 -0.271564  0.037601  0.554395  0.194177 -0.295273  0.413215 -0.033724   \n",
       "1 -0.393395 -0.062188  0.635279  0.062630 -0.144905  0.324336 -0.142172   \n",
       "2 -0.229396 -0.098869  0.327320  0.247322  0.011974  0.259872  0.081208   \n",
       "3 -0.211428 -0.095357  0.239634  0.099847 -0.106311  0.255665 -0.000272   \n",
       "4 -0.578025  0.039751  0.582209  0.288721 -0.404956  0.231579  0.051184   \n",
       "\n",
       "        7         8         9    ...       290       291       292       293  \\\n",
       "0  0.302937  0.749933  0.580825  ... -0.182048  0.331851  0.119295 -0.271650   \n",
       "1  0.261326  0.665856  0.308496  ... -0.190262  0.190294 -0.000945  0.049691   \n",
       "2  0.320640  0.435121  0.051939  ... -0.027018  0.114487 -0.116905  0.148160   \n",
       "3  0.178190  0.364575  0.101936  ...  0.033259  0.137756 -0.125509 -0.079346   \n",
       "4  0.170111  0.673649  0.285740  ... -0.353686  0.410463  0.154479 -0.248465   \n",
       "\n",
       "        294       295       296       297       298       299  \n",
       "0  0.120633  0.254109 -0.141262 -0.199510  0.211353 -0.284701  \n",
       "1  0.039310  0.229791 -0.263687 -0.117109  0.007234 -0.407619  \n",
       "2  0.144647 -0.113864 -0.233946 -0.004275 -0.230247 -0.201205  \n",
       "3  0.033270  0.086103 -0.125738 -0.139738 -0.103189 -0.318689  \n",
       "4  0.176782  0.508400 -0.220848 -0.341107  0.029526 -0.497928  \n",
       "\n",
       "[5 rows x 300 columns]"
      ]
     },
     "execution_count": 12,
     "metadata": {},
     "output_type": "execute_result"
    }
   ],
   "source": [
    "train_embeddings.head()"
   ]
  },
  {
   "cell_type": "code",
   "execution_count": 13,
   "metadata": {},
   "outputs": [],
   "source": [
    "data = data[['year']]\n",
    "data = pd.concat([data, train_embeddings], axis=1, sort=False)"
   ]
  },
  {
   "cell_type": "code",
   "execution_count": 14,
   "metadata": {},
   "outputs": [],
   "source": [
    "y = pd.get_dummies(y)"
   ]
  },
  {
   "cell_type": "code",
   "execution_count": 15,
   "metadata": {},
   "outputs": [],
   "source": [
    "X_train, X_test, y_train, y_test = train_test_split(data, y, test_size = 0.20, random_state = 42)"
   ]
  },
  {
   "cell_type": "code",
   "execution_count": 13,
   "metadata": {},
   "outputs": [
    {
     "name": "stdout",
     "output_type": "stream",
     "text": [
      "WARNING:tensorflow:From /Users/davidmortensen/anaconda3/lib/python3.7/site-packages/tensorflow/python/framework/op_def_library.py:263: colocate_with (from tensorflow.python.framework.ops) is deprecated and will be removed in a future version.\n",
      "Instructions for updating:\n",
      "Colocations handled automatically by placer.\n"
     ]
    }
   ],
   "source": [
    "x = tf.placeholder(tf.float32, [None, X_train.shape[1]])\n",
    "t = tf.placeholder(tf.float32, [None, y_train.shape[1]])\n",
    "\n",
    "#Defining model parameters:\n",
    "W1 = tf.get_variable(\"W1\", [X_train.shape[1], 3], initializer=tf.random_normal_initializer)\n",
    "b1 = tf.get_variable(\"b1\", [3], initializer=tf.random_normal_initializer)\n",
    "W2 = tf.get_variable(\"W2\", [3, y_train.shape[1]], initializer=tf.random_normal_initializer)\n",
    "b2 = tf.get_variable(\"b2\", [y_train.shape[1]], initializer=tf.random_normal_initializer)\n",
    "\n",
    "#Construct model:\n",
    "z1 = tf.nn.relu(tf.matmul(x, W1) + b1)\n",
    "y = tf.matmul(z1, W2) + b2\n",
    "\n",
    "# Variables for prediction and accuracy\n",
    "prediction = tf.argmax(y, 1)\n",
    "\n",
    "accuracy = tf.reduce_mean(tf.cast(tf.equal(prediction, tf.argmax(t, 1)), tf.float32))\n",
    "\n",
    "# Difine the loss function\n",
    "loss = tf.reduce_mean(tf.nn.softmax_cross_entropy_with_logits_v2(labels=t, logits=y))"
   ]
  },
  {
   "cell_type": "code",
   "execution_count": 14,
   "metadata": {},
   "outputs": [],
   "source": [
    "optimizer = tf.train.GradientDescentOptimizer(learning_rate = 0.0001).minimize(loss)"
   ]
  },
  {
   "cell_type": "code",
   "execution_count": 16,
   "metadata": {},
   "outputs": [
    {
     "name": "stdout",
     "output_type": "stream",
     "text": [
      "Epoch:  0 loss = 623.6992\n",
      "Epoch:  1000 loss = 0.6936612\n",
      "Epoch:  2000 loss = 0.6936578\n"
     ]
    },
    {
     "ename": "KeyboardInterrupt",
     "evalue": "",
     "output_type": "error",
     "traceback": [
      "\u001b[0;31m---------------------------------------------------------------------------\u001b[0m",
      "\u001b[0;31mKeyboardInterrupt\u001b[0m                         Traceback (most recent call last)",
      "\u001b[0;32m<ipython-input-16-cb77ca5f4e74>\u001b[0m in \u001b[0;36m<module>\u001b[0;34m()\u001b[0m\n\u001b[1;32m      9\u001b[0m     \u001b[0;31m# Training cycle\u001b[0m\u001b[0;34m\u001b[0m\u001b[0;34m\u001b[0m\u001b[0m\n\u001b[1;32m     10\u001b[0m     \u001b[0;32mfor\u001b[0m \u001b[0mepoch\u001b[0m \u001b[0;32min\u001b[0m \u001b[0mrange\u001b[0m\u001b[0;34m(\u001b[0m\u001b[0;36m30000\u001b[0m\u001b[0;34m)\u001b[0m\u001b[0;34m:\u001b[0m\u001b[0;34m\u001b[0m\u001b[0m\n\u001b[0;32m---> 11\u001b[0;31m         \u001b[0m_\u001b[0m\u001b[0;34m,\u001b[0m \u001b[0mloss_value\u001b[0m \u001b[0;34m=\u001b[0m \u001b[0msession\u001b[0m\u001b[0;34m.\u001b[0m\u001b[0mrun\u001b[0m\u001b[0;34m(\u001b[0m\u001b[0;34m[\u001b[0m\u001b[0moptimizer\u001b[0m\u001b[0;34m,\u001b[0m \u001b[0mloss\u001b[0m\u001b[0;34m]\u001b[0m\u001b[0;34m,\u001b[0m \u001b[0mfeed_dict\u001b[0m\u001b[0;34m=\u001b[0m\u001b[0;34m{\u001b[0m\u001b[0mx\u001b[0m\u001b[0;34m:\u001b[0m \u001b[0mX_train\u001b[0m\u001b[0;34m,\u001b[0m \u001b[0mt\u001b[0m\u001b[0;34m:\u001b[0m \u001b[0my_train\u001b[0m\u001b[0;34m}\u001b[0m\u001b[0;34m)\u001b[0m\u001b[0;34m\u001b[0m\u001b[0m\n\u001b[0m\u001b[1;32m     12\u001b[0m \u001b[0;34m\u001b[0m\u001b[0m\n\u001b[1;32m     13\u001b[0m         \u001b[0;32mif\u001b[0m \u001b[0mepoch\u001b[0m \u001b[0;34m%\u001b[0m \u001b[0;36m1000\u001b[0m \u001b[0;34m==\u001b[0m \u001b[0;36m0\u001b[0m\u001b[0;34m:\u001b[0m\u001b[0;34m\u001b[0m\u001b[0m\n",
      "\u001b[0;32m~/anaconda3/lib/python3.7/site-packages/tensorflow/python/client/session.py\u001b[0m in \u001b[0;36mrun\u001b[0;34m(self, fetches, feed_dict, options, run_metadata)\u001b[0m\n\u001b[1;32m    927\u001b[0m     \u001b[0;32mtry\u001b[0m\u001b[0;34m:\u001b[0m\u001b[0;34m\u001b[0m\u001b[0m\n\u001b[1;32m    928\u001b[0m       result = self._run(None, fetches, feed_dict, options_ptr,\n\u001b[0;32m--> 929\u001b[0;31m                          run_metadata_ptr)\n\u001b[0m\u001b[1;32m    930\u001b[0m       \u001b[0;32mif\u001b[0m \u001b[0mrun_metadata\u001b[0m\u001b[0;34m:\u001b[0m\u001b[0;34m\u001b[0m\u001b[0m\n\u001b[1;32m    931\u001b[0m         \u001b[0mproto_data\u001b[0m \u001b[0;34m=\u001b[0m \u001b[0mtf_session\u001b[0m\u001b[0;34m.\u001b[0m\u001b[0mTF_GetBuffer\u001b[0m\u001b[0;34m(\u001b[0m\u001b[0mrun_metadata_ptr\u001b[0m\u001b[0;34m)\u001b[0m\u001b[0;34m\u001b[0m\u001b[0m\n",
      "\u001b[0;32m~/anaconda3/lib/python3.7/site-packages/tensorflow/python/client/session.py\u001b[0m in \u001b[0;36m_run\u001b[0;34m(self, handle, fetches, feed_dict, options, run_metadata)\u001b[0m\n\u001b[1;32m   1119\u001b[0m             \u001b[0mfeed_handles\u001b[0m\u001b[0;34m[\u001b[0m\u001b[0msubfeed_t\u001b[0m\u001b[0;34m]\u001b[0m \u001b[0;34m=\u001b[0m \u001b[0msubfeed_val\u001b[0m\u001b[0;34m\u001b[0m\u001b[0m\n\u001b[1;32m   1120\u001b[0m           \u001b[0;32melse\u001b[0m\u001b[0;34m:\u001b[0m\u001b[0;34m\u001b[0m\u001b[0m\n\u001b[0;32m-> 1121\u001b[0;31m             \u001b[0mnp_val\u001b[0m \u001b[0;34m=\u001b[0m \u001b[0mnp\u001b[0m\u001b[0;34m.\u001b[0m\u001b[0masarray\u001b[0m\u001b[0;34m(\u001b[0m\u001b[0msubfeed_val\u001b[0m\u001b[0;34m,\u001b[0m \u001b[0mdtype\u001b[0m\u001b[0;34m=\u001b[0m\u001b[0msubfeed_dtype\u001b[0m\u001b[0;34m)\u001b[0m\u001b[0;34m\u001b[0m\u001b[0m\n\u001b[0m\u001b[1;32m   1122\u001b[0m \u001b[0;34m\u001b[0m\u001b[0m\n\u001b[1;32m   1123\u001b[0m           if (not is_tensor_handle_feed and\n",
      "\u001b[0;32m~/anaconda3/lib/python3.7/site-packages/numpy/core/numeric.py\u001b[0m in \u001b[0;36masarray\u001b[0;34m(a, dtype, order)\u001b[0m\n\u001b[1;32m    499\u001b[0m \u001b[0;34m\u001b[0m\u001b[0m\n\u001b[1;32m    500\u001b[0m     \"\"\"\n\u001b[0;32m--> 501\u001b[0;31m     \u001b[0;32mreturn\u001b[0m \u001b[0marray\u001b[0m\u001b[0;34m(\u001b[0m\u001b[0ma\u001b[0m\u001b[0;34m,\u001b[0m \u001b[0mdtype\u001b[0m\u001b[0;34m,\u001b[0m \u001b[0mcopy\u001b[0m\u001b[0;34m=\u001b[0m\u001b[0;32mFalse\u001b[0m\u001b[0;34m,\u001b[0m \u001b[0morder\u001b[0m\u001b[0;34m=\u001b[0m\u001b[0morder\u001b[0m\u001b[0;34m)\u001b[0m\u001b[0;34m\u001b[0m\u001b[0m\n\u001b[0m\u001b[1;32m    502\u001b[0m \u001b[0;34m\u001b[0m\u001b[0m\n\u001b[1;32m    503\u001b[0m \u001b[0;34m\u001b[0m\u001b[0m\n",
      "\u001b[0;31mKeyboardInterrupt\u001b[0m: "
     ]
    }
   ],
   "source": [
    "# Make an operation that initializes the variables\n",
    "init = tf.global_variables_initializer()\n",
    "\n",
    "# Start a new session\n",
    "with tf.Session() as session:\n",
    "    # Initialize the values\n",
    "    session.run(init)\n",
    "    \n",
    "    # Training cycle\n",
    "    for epoch in range(30000):\n",
    "        _, loss_value = session.run([optimizer, loss], feed_dict={x: X_train, t: y_train})\n",
    "        \n",
    "        if epoch % 1000 == 0:\n",
    "            print(\"Epoch: \", epoch, \"loss =\", loss_value)            \n",
    "            \n",
    "    print(\"Optimization done\")\n",
    "\n",
    "    # Evaluate the accuracy on the test set\n",
    "    accuracy_value = session.run(accuracy, feed_dict={x: X_train, t: y_train})\n",
    "    print(\"Accuracy:\", accuracy_value)\n",
    "    accuracy_value = session.run(accuracy, feed_dict={x: X_test, t: y_test})\n",
    "    print(\"Accuracy:\", accuracy_value)"
   ]
  },
  {
   "cell_type": "code",
   "execution_count": null,
   "metadata": {},
   "outputs": [],
   "source": []
  }
 ],
 "metadata": {
  "kernelspec": {
   "display_name": "Python 3",
   "language": "python",
   "name": "python3"
  },
  "language_info": {
   "codemirror_mode": {
    "name": "ipython",
    "version": 3
   },
   "file_extension": ".py",
   "mimetype": "text/x-python",
   "name": "python",
   "nbconvert_exporter": "python",
   "pygments_lexer": "ipython3",
   "version": "3.7.0"
  }
 },
 "nbformat": 4,
 "nbformat_minor": 2
}
